{
  "nbformat": 4,
  "nbformat_minor": 0,
  "metadata": {
    "colab": {
      "provenance": [],
      "private_outputs": true,
      "collapsed_sections": [
        "LdO6b6wbUIu9",
        "smMPBBe7okJh"
      ],
      "toc_visible": true
    },
    "kernelspec": {
      "name": "python3",
      "display_name": "Python 3"
    },
    "language_info": {
      "name": "python"
    }
  },
  "cells": [
    {
      "cell_type": "markdown",
      "source": [
        "# **Tratamiento bases de datos**"
      ],
      "metadata": {
        "id": "8wusfUxqg23o"
      }
    },
    {
      "cell_type": "markdown",
      "source": [
        "## **Preguntas claves**"
      ],
      "metadata": {
        "id": "u0WpDuWpl5t4"
      }
    },
    {
      "cell_type": "markdown",
      "source": [
        "**¿Existen patrones espaciales y temporales que se repiten en el tiempo?**\n",
        "\n",
        "**¿Existe relación entre la estratificación del área donde se registra el hurto con la cantidad de hurtos registrados?**\n",
        "\n",
        "**¿Hay baja frecuencia de hurtos en las zonas monitorizadas con cámaras CCTV de la secretaría de movilidad de Medellín?**\n",
        "\n",
        "**¿Existe relación entre el área de recuperación de una motocicleta con la estratificación de esta área?**\n",
        "\n"
      ],
      "metadata": {
        "id": "DglQ9SeQkpPz"
      }
    },
    {
      "cell_type": "markdown",
      "source": [
        "---\n",
        "## ***Cargue de librerias***"
      ],
      "metadata": {
        "id": "Ny6xk750JEr_"
      }
    },
    {
      "cell_type": "code",
      "source": [
        "!pip install unidecode"
      ],
      "metadata": {
        "id": "TBInkpe3FueX"
      },
      "execution_count": null,
      "outputs": []
    },
    {
      "cell_type": "code",
      "source": [
        "import json\n",
        "import time\n",
        "import pandas as pd\n",
        "import numpy as np\n",
        "import seaborn as sns\n",
        "import matplotlib.pyplot as plt\n",
        "from datetime import datetime\n",
        "from scipy.stats import zscore, median_abs_deviation\n",
        "import unidecode\n",
        "import plotly.express as px\n",
        "import plotly.graph_objects as go"
      ],
      "metadata": {
        "id": "JJn0aM5M8ASs"
      },
      "execution_count": null,
      "outputs": []
    },
    {
      "cell_type": "markdown",
      "source": [
        "---\n",
        "## ***Creación de un diccionario con las url de las bases de datos***"
      ],
      "metadata": {
        "id": "eHFC8JI2iotb"
      }
    },
    {
      "cell_type": "code",
      "execution_count": null,
      "metadata": {
        "id": "5MFSG8k1W8Dp"
      },
      "outputs": [],
      "source": [
        "url = {}\n",
        "url['Camaras'] = 'https://www.datos.gov.co/resource/6ic8-r398.json'\n",
        "url['Hurto_motos'] = 'https://medata.gov.co/sites/default/files/distribution/1-027-23-000014/hurto_de_moto.csv'\n",
        "url['Recuperacion'] = 'https://medata.gov.co/sites/default/files/distribution/1-027-23-000309/recuperacion_de_automotores_anio.csv'\n",
        "url['Estratos'] = 'https://www.medellin.gov.co/es/wp-content/uploads/2022/07/EstadisticasWEB2023-Diciembre.xlsx'"
      ]
    },
    {
      "cell_type": "markdown",
      "source": [
        "## ***Lectura de las url y creación de los DataFrame***"
      ],
      "metadata": {
        "id": "oiGnRlSZivOg"
      }
    },
    {
      "cell_type": "markdown",
      "source": [
        "### Lectura de urls"
      ],
      "metadata": {
        "id": "5_3sacEdlCjo"
      }
    },
    {
      "cell_type": "code",
      "source": [
        "dfs = {}\n",
        "\n",
        "for name, url in url.items():\n",
        "    if url.endswith('.json'):\n",
        "        dfs[name] = pd.read_json(url)\n",
        "    elif url.endswith('.csv'):\n",
        "        dfs[name] = pd.read_csv(url)\n",
        "    elif url.endswith('.xlsx'):\n",
        "        sheet_name1 = 'Estrato Predominante Barrio'\n",
        "        sheet_name2 = 'Estrato Predominante Comuna'\n",
        "        dfs[sheet_name1] = pd.read_excel(url, sheet_name = 'Estrato Predominante Barrio')\n",
        "        dfs[sheet_name2] = pd.read_excel(url, sheet_name = 'Estrato Predominante Comuna')"
      ],
      "metadata": {
        "id": "cLl5_hZShznu"
      },
      "execution_count": null,
      "outputs": []
    },
    {
      "cell_type": "markdown",
      "source": [
        "En el caso de la base de datos 'Estratos por barrio', reuqerimos de hacer unas pequeñas modificaciones antes de crear el dataframe"
      ],
      "metadata": {
        "id": "-JQfXFmOREjf"
      }
    },
    {
      "cell_type": "code",
      "source": [
        "# Remover la primera fila que se encuentra totalmente vacia\n",
        "dfs['Estrato Predominante Barrio'] = dfs['Estrato Predominante Barrio'].iloc[0:]\n",
        "# Configurar la \"nueva\" primer fila como los encabezados de cada columna\n",
        "dfs['Estrato Predominante Barrio'].columns = dfs['Estrato Predominante Barrio'].iloc[0]\n",
        "# Remover la segunda fila\n",
        "dfs['Estrato Predominante Barrio'] = dfs['Estrato Predominante Barrio'].iloc[1:]"
      ],
      "metadata": {
        "id": "BzVLzy7gP56H"
      },
      "execution_count": null,
      "outputs": []
    },
    {
      "cell_type": "markdown",
      "source": [
        "### Creación de los Data Frame"
      ],
      "metadata": {
        "id": "yNiezCrLlFtX"
      }
    },
    {
      "cell_type": "code",
      "source": [
        "df_cam = pd.DataFrame(dfs['Camaras'])\n",
        "df_hurto = pd.DataFrame(dfs['Hurto_motos'])\n",
        "df_rec = pd.DataFrame(dfs['Recuperacion'])\n",
        "df_estratos_barrio = pd.DataFrame(dfs['Estrato Predominante Barrio'])\n",
        "df_estratos_comuna = pd.DataFrame(dfs['Estrato Predominante Comuna'])"
      ],
      "metadata": {
        "id": "fj90mppRjqel"
      },
      "execution_count": null,
      "outputs": []
    },
    {
      "cell_type": "markdown",
      "source": [
        "---\n",
        "## ***Identidicación de variables no relevantes, outliers, duplicados y valores nulos***"
      ],
      "metadata": {
        "id": "EBIsBsLRkhBw"
      }
    },
    {
      "cell_type": "markdown",
      "source": [
        "---\n",
        "### **Base de datos de las camaras de la ciudad**"
      ],
      "metadata": {
        "id": "9fTLldM42lUZ"
      }
    },
    {
      "cell_type": "code",
      "source": [
        "df_cam.shape"
      ],
      "metadata": {
        "id": "z6gd00jJFyFH"
      },
      "execution_count": null,
      "outputs": []
    },
    {
      "cell_type": "code",
      "source": [
        "df_cam.info()"
      ],
      "metadata": {
        "id": "wbI5K2Npp5YF"
      },
      "execution_count": null,
      "outputs": []
    },
    {
      "cell_type": "code",
      "source": [
        "df_cam"
      ],
      "metadata": {
        "id": "pgYknNWlbA63"
      },
      "execution_count": null,
      "outputs": []
    },
    {
      "cell_type": "markdown",
      "source": [
        "#### **Información no relevante**"
      ],
      "metadata": {
        "id": "gIy9tnvWIqiF"
      }
    },
    {
      "cell_type": "markdown",
      "source": [
        "Al revisar el DataFrame, notamos que las columnas:\n",
        "\n",
        "\n",
        "1. 'link_detalle'\n",
        "2. 'link_foto'\n",
        "3. 'point'\n",
        "4. 'latitud'\n",
        "5. 'longitud'\n",
        "\n",
        "No aportan información relevante para el modelo por lo cual tomamos la decisión de eliminarlas.\n",
        "\n",
        "1. 'objectid'\n",
        "2. 'x_magnamed'\n",
        "3. 'y_magnamed'\n",
        "\n",
        "Son columnas de las cuáles no tenemos información y desconocemos su significado, por ende no utilizaremos.\n"
      ],
      "metadata": {
        "id": "zPSeqaFgw4IY"
      }
    },
    {
      "cell_type": "markdown",
      "source": [
        "Eliminamos las columnas mencionadas anteriormente y obtenemos el dataframe."
      ],
      "metadata": {
        "id": "ycYqwnEygxDp"
      }
    },
    {
      "cell_type": "code",
      "source": [
        "#df_cam1, copia del dataframe original, para manipularla\n",
        "df_cam1 = df_cam.drop(columns = ['link_detalle', 'link_foto', 'point', 'x_magnamed', 'y_magnamed', 'objectid'])\n",
        "df_cam1"
      ],
      "metadata": {
        "id": "5IuZ-7Kow5uL"
      },
      "execution_count": null,
      "outputs": []
    },
    {
      "cell_type": "markdown",
      "source": [
        "#### **Agregar las columnas comuna y barrio**"
      ],
      "metadata": {
        "id": "JJz6AH2gfzd4"
      }
    },
    {
      "cell_type": "markdown",
      "source": [
        "Hemos decidio realizar el cruce de bases guiándonos de las variables 'barrio' o 'comuna', por ende agregamos estas mismas a las cámaras buscando sus ubicaciones de manera manual."
      ],
      "metadata": {
        "id": "NG2zvbKEbAWM"
      }
    },
    {
      "cell_type": "code",
      "source": [
        "barrios = ('LA CANDELARIA', 'VILLA CARLOTA','EL POBLADO','SANTA MARIA DE LOS ANGELES','SANTA MARIA DE LOS ANGELES','VILLA NUEVA','LAURELES',\n",
        "'CASTROPOL','ALTOS DEL POBLADO','SAN DIEGO','UNIVERSIDAD NACIONAL','LA PILARICA','CASTILLA','BELALCAZAR','CRISTO REY','CORAZON DE JESUS',\n",
        "'CORAZON DE JESUS','LA AGUACATALA','GUAYABAL','SANTA FE','EL ESTADIO','LA AGUACATALA','GUAYABAL','GUAYABAL','EL TESORO','EL POBLADO','CAMPO AMOR',\n",
        "'LAS LOMAS # 1','EL POBLADO','SANTA FE','CASTROPOL','AEROPARQUE JUAN PABLO II','VILLA CARLOTA','SAN DIEGO','EL SOCORRO','LA PALMA','BARRIO COLON',\n",
        "'LOS CONQUISTADORES','BOMBONA # 1','LOS CONQUISTADORES','EL ESTADIO','LA CANDELARIA','SURAMERICANA','EL CHAGUALO','CARLOS E. RESTREPO','MORAVIA',\n",
        "'OLEODUCTO','TRICENTENARIO','CASTILLA','BOYACA','LAS BRISAS','EL DIAMANTE','LA FLORIDA','BELALCAZAR','LA AGUACATALA','CARIBE','SANTA FE','OLEODUCTO',\n",
        "'PATIO BONITO','ENVIGADO','PROGRESO','SAN BENITO','LA AGUACATALA','SANTA FE','EL CHAGUALO','PERPETUO SOCORRO','CORAZON DE JESUS','HECTOR ABAD GOMEZ',\n",
        "'SAN CRISTOBAL','PROGRESO','SANTA MARGARITA','EL DANUBIO','NUEVA VILLA DE ABURRA')\n",
        "\n",
        "comunas = ('LA CANDELARIA', 'EL POBLADO', 'EL POBLADO', 'EL POBLADO', 'EL POBLADO','LA CANDELARIA', 'LAURELES', 'EL POBLADO', 'EL POBLADO',\n",
        "'LA CANDELARIA', 'ROBLEDO', 'ROBLEDO','CASTILLA', 'CASTILLA', 'GUAYABAL', 'LA CANDELARIA', 'LA CANDELARIA', 'EL POBLADO', 'GUAYABAL','GUAYABAL',\n",
        "'LAURELES', 'EL POBLADO', 'GUAYABAL', 'GUAYABAL', 'EL POBLADO', 'EL POBLADO', 'GUAYABAL','EL POBLADO', 'EL POBLADO', 'GUAYABAL', 'EL POBLADO',\n",
        "'GUAYABAL', 'EL POBLADO', 'LA CANDELARIA', 'SAN JAVIER','BELEN', 'LA CANDELARIA', 'LAURELES', 'LA CANDELARIA', 'LAURELES', 'LAURELES',\n",
        "'LA CANDELARIA', 'LAURELES','LA CANDELARIA', 'LAURELES', 'ARANJUEZ', 'CASTILLA', 'CASTILLA', 'CASTILLA', 'CASTILLA', 'CASTILLA', 'ROBLEDO',\n",
        "'EL POBLADO', 'CASTILLA', 'EL POBLADO', 'CASTILLA', 'GUAYABAL', 'CASTILLA', 'EL POBLADO', 'ENVIGADO', 'CASTILLA','LA CANDELARIA', 'EL POBLADO',\n",
        "'GUAYABAL', 'LA CANDELARIA', 'LA CANDELARIA', 'LA CANDELARIA', 'CASTILLA','SAN CRISTOBAL', 'CASTILLA', 'ROBLEDO', 'LA AMERICA', 'BELEN')"
      ],
      "metadata": {
        "id": "-PeWP26na_K9"
      },
      "execution_count": null,
      "outputs": []
    },
    {
      "cell_type": "code",
      "source": [
        "df_cam1['comuna'] = comunas\n",
        "df_cam1['barrio'] = barrios\n",
        "df_cam1"
      ],
      "metadata": {
        "id": "4Pv7vAhghXcW"
      },
      "execution_count": null,
      "outputs": []
    },
    {
      "cell_type": "markdown",
      "source": [
        "Luego de ubicar las cámaras por barrio y comuna, nos damos cuenta que las cámaras 60   (ENVIGADO) y 69 (SAN CRISTOBAL) se encuentran fuera de Medellín que es el área delimitada, por ende, las suprimimos del dataframe."
      ],
      "metadata": {
        "id": "1-Lw3-awio9m"
      }
    },
    {
      "cell_type": "code",
      "source": [
        "df_cam1 = df_cam1.drop([59, 68])"
      ],
      "metadata": {
        "id": "oAGhdL7Din_q"
      },
      "execution_count": null,
      "outputs": []
    },
    {
      "cell_type": "markdown",
      "source": [
        "#### **Valores duplicados**\n"
      ],
      "metadata": {
        "id": "glKSovQOSfX8"
      }
    },
    {
      "cell_type": "code",
      "source": [
        "df_cam1.duplicated().sum()"
      ],
      "metadata": {
        "id": "1Bc_aFNW5vx5"
      },
      "execution_count": null,
      "outputs": []
    },
    {
      "cell_type": "markdown",
      "source": [
        "#### **Valores nulos**"
      ],
      "metadata": {
        "id": "vlKZKfZL355e"
      }
    },
    {
      "cell_type": "code",
      "source": [
        "df_cam1.isnull().sum()"
      ],
      "metadata": {
        "id": "wjd9RMHF3ioA"
      },
      "execution_count": null,
      "outputs": []
    },
    {
      "cell_type": "markdown",
      "source": [
        "La base de datos de las cámaras de seguridad no cuenta con valores nulos y tampoco con valores duplicados."
      ],
      "metadata": {
        "id": "Z5_rZZ-m4Emc"
      }
    },
    {
      "cell_type": "markdown",
      "source": [
        "---\n",
        "### **Base de datos de hurtos de motos en la ciudad**"
      ],
      "metadata": {
        "id": "-eqGF4E_6m5c"
      }
    },
    {
      "cell_type": "code",
      "source": [
        "# Copia del DataFrame original para su manipulación\n",
        "df_hurto1 = df_hurto"
      ],
      "metadata": {
        "id": "_0ADKQGbxhGO"
      },
      "execution_count": null,
      "outputs": []
    },
    {
      "cell_type": "code",
      "source": [
        "df_hurto1.shape"
      ],
      "metadata": {
        "id": "MOpyMRu4nwIG"
      },
      "execution_count": null,
      "outputs": []
    },
    {
      "cell_type": "markdown",
      "source": [
        "#### **Información no relevante**"
      ],
      "metadata": {
        "id": "XHzNXM5dr17a"
      }
    },
    {
      "cell_type": "markdown",
      "source": [
        "Hemos decidido trabajar con un nivel de detalle de barrios, por lo que no se tendra en cuenta el dato de las coordenadas (latitud y longitud) del hecho y se toma la decición de eliminar estas columnas."
      ],
      "metadata": {
        "id": "qptnY8DG7XTu"
      }
    },
    {
      "cell_type": "markdown",
      "source": [
        "**Las columnas:**\n",
        "\n",
        "1. 'grupo_actor'\n",
        "2. 'actividad_delictiva'\n",
        "3. 'parentesco'\n",
        "4. 'unidad_medida'\n",
        "5. 'discapacidad'\n",
        "6. 'ocupacion'\n",
        "7. 'grupo_especial'\n",
        "8. 'nivel_academico'\n",
        "9. 'testigo'\n",
        "10. 'caracterizacion'\n",
        "11. 'articulo_penal'\n",
        "12. 'categoria_penal'\n",
        "13. 'permiso'\n",
        "\n",
        "\n",
        "Contienen un único valor 'Sin dato', por lo que se decide eliminarlas."
      ],
      "metadata": {
        "id": "QYGG1VWGx2xA"
      }
    },
    {
      "cell_type": "markdown",
      "source": [
        "**Las columnas:**\n",
        "\n",
        "1. 'estado_civil'\n",
        "2. 'medio_transporte'\n",
        "3. 'conducta'\n",
        "4. 'sede_receptora'\n",
        "5. 'grupo_bien'\n",
        "\n",
        "Contienen valores que consideramos no son necesarios para el análisis, por lo que también son eliminadas."
      ],
      "metadata": {
        "id": "B9qKeucboZc4"
      }
    },
    {
      "cell_type": "markdown",
      "source": [
        "Y finalmente, al revisar la información de la columna 'fecha_ingestion' notamos que esta solo tiene una única fecha de abril de 2024, por lo que no la consideramos relevente y decidimos eliminarla, al igual que la columna 'cantidad' que hace referencia a la cantidad de vehículos hurtados por cada registro, pero esta tiene un único valor (1) para las motocicletas, así que también decidimos eliminarla."
      ],
      "metadata": {
        "id": "1PDt6W3g8dw9"
      }
    },
    {
      "cell_type": "code",
      "source": [
        "df_hurto1 = df_hurto1.drop(columns = ['grupo_actor', 'actividad_delictiva', 'parentesco', 'unidad_medida',\n",
        "                                      'discapacidad', 'ocupacion', 'grupo_especial', 'nivel_academico', 'testigo',\n",
        "                                      'caracterizacion', 'articulo_penal', 'categoria_penal', 'permiso','estado_civil', 'medio_transporte',\n",
        "                                      'conducta', 'sede_receptora', 'grupo_bien','fecha_ingestion', 'cantidad'])"
      ],
      "metadata": {
        "id": "94dhbeoX8pR2"
      },
      "execution_count": null,
      "outputs": []
    },
    {
      "cell_type": "code",
      "source": [
        "df_hurto1['bien'].unique()"
      ],
      "metadata": {
        "id": "XSBeDYiOquAg"
      },
      "execution_count": null,
      "outputs": []
    },
    {
      "cell_type": "markdown",
      "source": [
        "Ahora, notamos que existen registros de hurtos para bienes que no estamos tratando en este trabajo como lo son: Carne, Bicicleta, Sin dato, Motor vehículos y Moto carro, así que decidimos suprimir las filas con los índices correspondientes a estos datos."
      ],
      "metadata": {
        "id": "H30IGg_RrH8F"
      }
    },
    {
      "cell_type": "code",
      "source": [
        "#se halla una carne hurtada\n",
        "carne = df_hurto1[df_hurto1['bien'] == 'Carne']\n",
        "indicecarne = list(carne.index)\n",
        "print(len(indicecarne))"
      ],
      "metadata": {
        "id": "2swHVVL_pT3R"
      },
      "execution_count": null,
      "outputs": []
    },
    {
      "cell_type": "code",
      "source": [
        "#se encuentran 5809 registros donde no se especifica el bien hurtado\n",
        "sindato = df_hurto1[df_hurto1['bien'] == 'Sin dato']\n",
        "indicesindato = list(sindato.index)\n",
        "print(len(indicesindato))"
      ],
      "metadata": {
        "id": "EHKLP9auq256"
      },
      "execution_count": null,
      "outputs": []
    },
    {
      "cell_type": "code",
      "source": [
        "#se halla una bicileta hurtada\n",
        "bicicleta = df_hurto1[df_hurto1['bien'] == 'Bicicleta']\n",
        "indicebicicleta = list(bicicleta.index)\n",
        "print(len(indicebicicleta))"
      ],
      "metadata": {
        "id": "zw-JgpyYuy7P"
      },
      "execution_count": null,
      "outputs": []
    },
    {
      "cell_type": "code",
      "source": [
        "#se halla un motorvehiculo hurtado\n",
        "motorvehiculo = df_hurto1[df_hurto1['bien'] == 'Motor vehículo']\n",
        "indicemotorvehiculo = list(motorvehiculo.index)\n",
        "print(len(indicemotorvehiculo))"
      ],
      "metadata": {
        "id": "XOztLmpPvN_o"
      },
      "execution_count": null,
      "outputs": []
    },
    {
      "cell_type": "code",
      "source": [
        "##se encuentran 69 moto carros hurtados\n",
        "motocarro = df_hurto1[df_hurto1['bien'] == 'Moto carro']\n",
        "indicemotocarro = list(motocarro.index)\n",
        "print(len(indicemotocarro))"
      ],
      "metadata": {
        "id": "gQwnHAxmvm7T"
      },
      "execution_count": null,
      "outputs": []
    },
    {
      "cell_type": "code",
      "source": [
        "#se eliminan 5881 fias de registros de hurtos que no son de interes para el trabajo\n",
        "indices_suprimir = indicecarne + indicebicicleta + indicesindato + indicemotorvehiculo + indicemotocarro\n",
        "print(len(indices_suprimir))"
      ],
      "metadata": {
        "id": "mT39g18twXAl"
      },
      "execution_count": null,
      "outputs": []
    },
    {
      "cell_type": "code",
      "source": [
        "df_hurto1 = df_hurto1.drop(indices_suprimir)"
      ],
      "metadata": {
        "id": "ns3dctRxw1SN"
      },
      "execution_count": null,
      "outputs": []
    },
    {
      "cell_type": "code",
      "source": [
        "#finalmente la base de datos pasó de 86.410 a 80.529 filas y de 36 a 14 columnas con las que vamos a trabajar,\n",
        "#eliminando 22 columnas y 5881 registros irrelevantes\n",
        "df_hurto1.shape"
      ],
      "metadata": {
        "id": "Q7aXdKPV02Yg"
      },
      "execution_count": null,
      "outputs": []
    },
    {
      "cell_type": "markdown",
      "source": [
        "#### **Redefinición de variables**"
      ],
      "metadata": {
        "id": "qkRtylb2JFgZ"
      }
    },
    {
      "cell_type": "markdown",
      "source": [
        "Para un correcto cruce con los demas dataframe, Hemos puesto el texto en mayúsculas y sin tildes para la columna 'nombre_barrio'."
      ],
      "metadata": {
        "id": "er1iIHYD6-wb"
      }
    },
    {
      "cell_type": "code",
      "source": [
        "df_hurto1['nombre_barrio'] = df_hurto1['nombre_barrio'].str.upper()\n",
        "df_hurto1['nombre_barrio'] = df_hurto1['nombre_barrio'].apply(unidecode.unidecode)\n",
        "df_hurto1['nombre_barrio']"
      ],
      "metadata": {
        "id": "4eUxsLbC3j1W"
      },
      "execution_count": null,
      "outputs": []
    },
    {
      "cell_type": "markdown",
      "source": [
        "Reemplazamos la columna 'codigo_comuna' por 'nombre_comuma', ademas de ponerla en el formato necesario para cruzarla con los demas DataFrame."
      ],
      "metadata": {
        "id": "M-nJ7vO3FnSg"
      }
    },
    {
      "cell_type": "code",
      "source": [
        "df_hurto1.insert(9, 'codigo_comuna1', df_hurto1['codigo_comuna'].copy())"
      ],
      "metadata": {
        "id": "c0abl75DV2lv"
      },
      "execution_count": null,
      "outputs": []
    },
    {
      "cell_type": "code",
      "source": [
        "df_hurto1['codigo_comuna1'].unique()"
      ],
      "metadata": {
        "id": "_qf5pdJ6jQW5"
      },
      "execution_count": null,
      "outputs": []
    },
    {
      "cell_type": "code",
      "source": [
        "df_hurto1['codigo_comuna1'] = df_hurto1['codigo_comuna1'].replace({\n",
        "                                              1:'1', 2:'2', 3:'3', 4:'4', 5:'5', 6:'6', 7:'7', 8:'8',\n",
        "                                              9:'9', 10:'10', 11:'11', 12:'12', 13:'13', 14:'14', 15:'15',\n",
        "                                              16:'16', 50:'50', 60:'60', 70:'70', 80:'80', 90:'90'\n",
        "                                              })"
      ],
      "metadata": {
        "id": "uRcGAhBrM7kO"
      },
      "execution_count": null,
      "outputs": []
    },
    {
      "cell_type": "code",
      "source": [
        "df_hurto1['codigo_comuna'] = df_hurto1['codigo_comuna'].replace({\n",
        "                                              1:'1', 2:'2', 3:'3', 4:'4', 5:'5', 6:'6', 7:'7', 8:'8',\n",
        "                                              9:'9', 10:'10', 11:'11', 12:'12', 13:'13', 14:'14', 15:'15',\n",
        "                                              16:'16', 50:'50', 60:'60', 70:'70', 80:'80', 90:'90'\n",
        "                                              })"
      ],
      "metadata": {
        "id": "3wGqsMli8pt3"
      },
      "execution_count": null,
      "outputs": []
    },
    {
      "cell_type": "code",
      "source": [
        "df_hurto1['codigo_comuna1'] = df_hurto1['codigo_comuna1'].replace({\n",
        "                                              '1':'POPULAR', '2':'SANTA CRUZ', '3':'MANRIQUE', '4':'ARANJUEZ',\n",
        "                                              '5':'CASTILLA', '6':'DOCE DE OCTUBRE', '7':'ROBLEDO', '8':'VILLA HERMOSA',\n",
        "                                              '9':'BUENOS AIRES', '10':'LA CANDELARIA', '11':'LAURELES', '12':'LA AMERICA',\n",
        "                                              '13':'SAN JAVIER', '14':'EL POBLADO', '15':'GUAYABAL', '16':'BELEN',\n",
        "                                              '50':'PALMITAS', '60':'SAN CRISTOBAL', '70':'ALTAVISTA', '80':'SAN ANTONIO DE PRADO',\n",
        "                                              '90':'SANTA ELENA'\n",
        "                                              })"
      ],
      "metadata": {
        "id": "gbOkDFOEKzpb"
      },
      "execution_count": null,
      "outputs": []
    },
    {
      "cell_type": "markdown",
      "source": [
        "Se elimanan las filas del df en donde el valor de la columa 'codigo_comuna' es 'Sin dato'."
      ],
      "metadata": {
        "id": "aiwDegfSCYaj"
      }
    },
    {
      "cell_type": "code",
      "source": [
        "df_hurto1 = df_hurto1[df_hurto1['codigo_comuna1'] != 'SIN DATO']"
      ],
      "metadata": {
        "id": "Bu0qg2-CCOow"
      },
      "execution_count": null,
      "outputs": []
    },
    {
      "cell_type": "code",
      "source": [
        "df_hurto1['codigo_comuna1'].unique()"
      ],
      "metadata": {
        "id": "Wv1QtullCiBl"
      },
      "execution_count": null,
      "outputs": []
    },
    {
      "cell_type": "code",
      "source": [
        "df_hurto1 = df_hurto1.rename(columns = {'codigo_comuna1' : 'nombre_comuna'})"
      ],
      "metadata": {
        "id": "aG8VxwYzNUQS"
      },
      "execution_count": null,
      "outputs": []
    },
    {
      "cell_type": "markdown",
      "source": [
        "##### **Eliminación de los corregimientos de la base de datos**"
      ],
      "metadata": {
        "id": "NViNTA-gR8Ah"
      }
    },
    {
      "cell_type": "markdown",
      "source": [
        "Nuestra área de influencia es la ciudad de Medellín sin tener en cuenta los corregimientos que hacen parte de ella, es por ello que se eliminan los 5 corregimientos de los registros"
      ],
      "metadata": {
        "id": "thVMsQu3R_uR"
      }
    },
    {
      "cell_type": "code",
      "source": [
        "df_hurto1['nombre_comuna'].unique()"
      ],
      "metadata": {
        "id": "dOY7etqPSMkn"
      },
      "execution_count": null,
      "outputs": []
    },
    {
      "cell_type": "code",
      "source": [
        "corre = ['ALTAVISTA', 'SAN CRISTOBAL', 'SAN ANTONIO DE PRADO', 'SANTA ELENA', 'PALMITAS']\n",
        "for i in corre:\n",
        "  df_hurto1.drop(df_hurto1[df_hurto1['nombre_comuna'] == i].index, inplace=True)"
      ],
      "metadata": {
        "id": "ulOovjohTA3w"
      },
      "execution_count": null,
      "outputs": []
    },
    {
      "cell_type": "code",
      "source": [
        "df_hurto1['nombre_comuna'].unique()"
      ],
      "metadata": {
        "id": "N4VfLN5QUZW-"
      },
      "execution_count": null,
      "outputs": []
    },
    {
      "cell_type": "markdown",
      "source": [
        "#### **Valores duplicados**"
      ],
      "metadata": {
        "id": "nntSm1fnmijY"
      }
    },
    {
      "cell_type": "code",
      "source": [
        "a = len(df_hurto1)\n",
        "a"
      ],
      "metadata": {
        "id": "VGf5VWJz7K0d"
      },
      "execution_count": null,
      "outputs": []
    },
    {
      "cell_type": "code",
      "source": [
        "b = df_hurto1.duplicated().sum()\n",
        "b"
      ],
      "metadata": {
        "id": "KrjzDxNW6j0n"
      },
      "execution_count": null,
      "outputs": []
    },
    {
      "cell_type": "code",
      "source": [
        "b/a"
      ],
      "metadata": {
        "id": "z3gKLNVM7fy_"
      },
      "execution_count": null,
      "outputs": []
    },
    {
      "cell_type": "markdown",
      "source": [
        "Los datos duplicados representan el 9,93% del total de datos, consideramos que se puede eliminar."
      ],
      "metadata": {
        "id": "mFYPYdaR7rAj"
      }
    },
    {
      "cell_type": "code",
      "source": [
        "df_hurto1 = df_hurto1.drop_duplicates()"
      ],
      "metadata": {
        "id": "TQHI-2sw8RH1"
      },
      "execution_count": null,
      "outputs": []
    },
    {
      "cell_type": "markdown",
      "source": [
        "#### **Valores nulos**"
      ],
      "metadata": {
        "id": "5f8C8XRo8l87"
      }
    },
    {
      "cell_type": "code",
      "source": [
        "df_hurto1.isnull().sum()"
      ],
      "metadata": {
        "id": "hknTn8Qj8op3"
      },
      "execution_count": null,
      "outputs": []
    },
    {
      "cell_type": "markdown",
      "source": [
        "La base de datos no cuento con dato nulos."
      ],
      "metadata": {
        "id": "roKVwtsKFrbZ"
      }
    },
    {
      "cell_type": "markdown",
      "source": [
        "#### **Categorización**"
      ],
      "metadata": {
        "id": "lxcNIeu9oNF4"
      }
    },
    {
      "cell_type": "markdown",
      "source": [
        "Separación de la variable 'fecha_hecho' en sus componentes: año, mes, día y hora. Además de la creación de una nueva variable que según el día del hecho diferencie si el hurto ocurrió un fin de semana (entre viernes y domingo) o no (entre lunes y jueves)."
      ],
      "metadata": {
        "id": "suj2eAp7y2m7"
      }
    },
    {
      "cell_type": "code",
      "source": [
        "df_hurto1['fecha_hecho'] = pd.to_datetime(df_hurto1['fecha_hecho'])"
      ],
      "metadata": {
        "id": "UF_nLfzwfA3d"
      },
      "execution_count": null,
      "outputs": []
    },
    {
      "cell_type": "code",
      "source": [
        "df_hurto1.insert(1, 'Año', df_hurto1['fecha_hecho'].dt.year)\n",
        "df_hurto1.insert(2, 'Mes', df_hurto1['fecha_hecho'].dt.month)\n",
        "df_hurto1.insert(3, 'Día', df_hurto1['fecha_hecho'].dt.day)\n",
        "df_hurto1.insert(4, 'Hora', df_hurto1['fecha_hecho'].dt.hour.astype(str) + df_hurto1['fecha_hecho'].dt.minute.apply(lambda x: str(x).zfill(2)))"
      ],
      "metadata": {
        "id": "n17hTf_5ovt6"
      },
      "execution_count": null,
      "outputs": []
    },
    {
      "cell_type": "code",
      "source": [
        "df_hurto1.insert(4, 'Fin de semana',df_hurto1['fecha_hecho'].apply(lambda date: 'Sí' if date.weekday() >= 4 else 'No'))\n",
        "# La ahora esta expresada en formato militar\n",
        "df_hurto1['Hora'] = df_hurto1['Hora'].astype(int)"
      ],
      "metadata": {
        "id": "UngOL_xFTkX1"
      },
      "execution_count": null,
      "outputs": []
    },
    {
      "cell_type": "code",
      "source": [
        "df_hurto1['Año'] = df_hurto1['Año'].astype(object)\n",
        "df_hurto1['Mes'] = df_hurto1['Mes'].replace({\n",
        "                                              1:'Ene', 2:'Feb', 3:'Mar', 4:'Abr',\n",
        "                                              5:'May', 6:'Jun', 7:'Jul', 8:'Ago',\n",
        "                                              9:'Sep', 10:'Oct', 11:'Nov', 12:'Dic'\n",
        "                                              })\n",
        "df_hurto1['Mes'] = df_hurto1['Mes'].astype(object)\n",
        "df_hurto1['Día'] = df_hurto1['Día'].astype(object)\n",
        "df_hurto1['Fin de semana'] = df_hurto1['Fin de semana'].astype(object)\n",
        "df_hurto1 = df_hurto1.drop(columns = 'fecha_hecho')"
      ],
      "metadata": {
        "id": "foxXt3PftqO4"
      },
      "execution_count": null,
      "outputs": []
    },
    {
      "cell_type": "code",
      "source": [],
      "metadata": {
        "id": "QSTqH3_Xz34s"
      },
      "execution_count": null,
      "outputs": []
    },
    {
      "cell_type": "code",
      "source": [
        "df_hurto1.head()"
      ],
      "metadata": {
        "id": "4blf61iyu9AS"
      },
      "execution_count": null,
      "outputs": []
    },
    {
      "cell_type": "markdown",
      "source": [
        "#### **Outliers**"
      ],
      "metadata": {
        "id": "Jyf4pnRp5JdG"
      }
    },
    {
      "cell_type": "markdown",
      "source": [
        "##### Metodo gráfico"
      ],
      "metadata": {
        "id": "1mrqdG9o5Wt6"
      }
    },
    {
      "cell_type": "code",
      "source": [
        "fig = sns.boxplot(data = df_hurto1, x = 'edad')\n",
        "fig.set_xlabel('Edad')"
      ],
      "metadata": {
        "id": "e8-DHAH53PmG"
      },
      "execution_count": null,
      "outputs": []
    },
    {
      "cell_type": "markdown",
      "source": [
        "##### Z-score"
      ],
      "metadata": {
        "id": "jmo1pnGG-eLk"
      }
    },
    {
      "cell_type": "code",
      "source": [
        "# Calcular z-score para cada punto y obtener su valor absoluto\n",
        "z_scores = zscore(df_hurto1['edad'])\n",
        "abs_z_scores = np.abs(z_scores)\n",
        "\n",
        "# Seleccionar los outliers usando un límite de 4.5\n",
        "\n",
        "outliers_zscore1 = df_hurto1[abs_z_scores > 4.5]\n",
        "outliers_zscore1['edad'].min()"
      ],
      "metadata": {
        "id": "J1igaREe-iQT"
      },
      "execution_count": null,
      "outputs": []
    },
    {
      "cell_type": "markdown",
      "source": [
        "Los métodos para identificar outliers no tiene en cuenta los datos que están a la izquierda del gráfico. Es por eso que decidimos revisarlos manualmente teniendo como criterio la edad mínima para obtener una licencia de conducir en Colombia que es de 16 años."
      ],
      "metadata": {
        "id": "IDgMLD28PeFJ"
      }
    },
    {
      "cell_type": "code",
      "source": [
        "df_fil1 = df_hurto1[df_hurto1['edad'] < 16]\n",
        "len(df_fil1)/len(df_hurto1)*100"
      ],
      "metadata": {
        "id": "v-Uo7g-56JLT"
      },
      "execution_count": null,
      "outputs": []
    },
    {
      "cell_type": "markdown",
      "source": [
        "Estos datos atipicos corresponden al 2.35% del total de datos por lo cual decicimos eliminarlos."
      ],
      "metadata": {
        "id": "e2ugGXpXQWlZ"
      }
    },
    {
      "cell_type": "code",
      "source": [
        "# Eliminación de filas cuya edad sea menor de 16\n",
        "df_hurto1 = df_hurto1[df_hurto1['edad'] >= 16]"
      ],
      "metadata": {
        "id": "lGcOEjWWQPKO"
      },
      "execution_count": null,
      "outputs": []
    },
    {
      "cell_type": "markdown",
      "source": [
        "Se escoge eliminar los outliers a derecha del grafico mediante el método del Z-score con un valor de 4.5 como referencia. Es decir, los valores que contienen un Z-score mayor a 4.5 en la variable 'edad' serán eliminados."
      ],
      "metadata": {
        "id": "D-wK9BKxEgDn"
      }
    },
    {
      "cell_type": "code",
      "source": [
        "df_hurto1 = df_hurto1[abs_z_scores <= 4.5]"
      ],
      "metadata": {
        "id": "WJmcJPCeEfsj"
      },
      "execution_count": null,
      "outputs": []
    },
    {
      "cell_type": "code",
      "source": [
        "# Reinicio de los indices\n",
        "df_hurto1.reset_index(drop=True, inplace=True)"
      ],
      "metadata": {
        "id": "ybYO9moPHpd7"
      },
      "execution_count": null,
      "outputs": []
    },
    {
      "cell_type": "markdown",
      "source": [
        "---\n",
        "### **Base de datos de motos recuperadas**"
      ],
      "metadata": {
        "id": "OzqPQFsimDS8"
      }
    },
    {
      "cell_type": "code",
      "source": [
        "# Copia del DataFrame original para su manipulación\n",
        "df_rec1 = df_rec"
      ],
      "metadata": {
        "id": "zimTNnD6I5CS"
      },
      "execution_count": null,
      "outputs": []
    },
    {
      "cell_type": "code",
      "source": [
        "df_rec1.shape"
      ],
      "metadata": {
        "id": "6WJqRTuN3Ya3"
      },
      "execution_count": null,
      "outputs": []
    },
    {
      "cell_type": "markdown",
      "source": [
        "#### **Valores duplicados**"
      ],
      "metadata": {
        "id": "8vJmj1fcos6h"
      }
    },
    {
      "cell_type": "code",
      "source": [
        "df_rec1.duplicated().sum()"
      ],
      "metadata": {
        "id": "1KaEhXucotL0"
      },
      "execution_count": null,
      "outputs": []
    },
    {
      "cell_type": "markdown",
      "source": [
        "La base de datos no cuenta con valores duplicados."
      ],
      "metadata": {
        "id": "cZKBzvtQpbSp"
      }
    },
    {
      "cell_type": "markdown",
      "source": [
        "#### **Valores nulos**"
      ],
      "metadata": {
        "id": "05YS8ENooxR4"
      }
    },
    {
      "cell_type": "code",
      "source": [
        "df_rec1.isnull().sum()"
      ],
      "metadata": {
        "id": "YPVzzHsxpRa2"
      },
      "execution_count": null,
      "outputs": []
    },
    {
      "cell_type": "markdown",
      "source": [
        "La base de datos no cuenta con valores nulos."
      ],
      "metadata": {
        "id": "pWLUr2nYph8a"
      }
    },
    {
      "cell_type": "markdown",
      "source": [],
      "metadata": {
        "id": "QjkhHef1f9yJ"
      }
    },
    {
      "cell_type": "markdown",
      "source": [
        "#### **Redefinición y categorización de variables**"
      ],
      "metadata": {
        "id": "vg6ASu4XZfy-"
      }
    },
    {
      "cell_type": "code",
      "source": [
        "nombre_com = {\n",
        "    '1': 'POPULAR', '2': 'SANTA CRUZ', '3': 'MANRIQUE', '4': 'ARANJUEZ',\n",
        "    '5': 'CASTILLA', '6': 'DOCE DE OCTUBRE', '7': 'ROBLEDO', '8': 'VILLA HERMOSA',\n",
        "    '9': 'BUENOS AIRES', '10': 'LA CANDELARIA', '11': 'LAURELES', '12': 'LA AMERICA',\n",
        "    '13': 'SAN JAVIER', '14': 'EL POBLADO', '15': 'GUAYABAL', '16': 'BELEN',\n",
        "    '50': 'PALMITAS', '60': 'SAN CRISTOBAL', '70': 'ALTAVISTA', '80': 'SAN ANTONIO DE PRADO',\n",
        "    '90': 'SANTA ELENA'\n",
        "}"
      ],
      "metadata": {
        "id": "_bUyHgMYZmtr"
      },
      "execution_count": null,
      "outputs": []
    },
    {
      "cell_type": "code",
      "source": [
        "unique_comunas = df_rec1['codigo_comuna'].unique()\n",
        "results = []\n",
        "\n",
        "for codigo in unique_comunas:\n",
        "    matching_rows = df_rec1[df_rec1['codigo_comuna'] == codigo]\n",
        "    sum_of_cantidad = matching_rows['cantidad'].sum()\n",
        "    nombre_comuna = nombre_com.get(str(codigo))\n",
        "    results.append([codigo, nombre_comuna, sum_of_cantidad])\n",
        "\n",
        "# df_rec2 sera un DF donde esten almacenados todos los vehiculos recuperados a lo largo del tiempo segmentados por comuna\n",
        "df_rec2 = pd.DataFrame(results, columns=['codigo_comuna', 'nombre_comuna', 'cantidad_recuperaciones'])\n",
        "# Eliminación de los corregimos del DataFrame\n",
        "corre = ['ALTAVISTA', 'SAN CRISTOBAL', 'SAN ANTONIO DE PRADO', 'SANTA ELENA', 'PALMITAS']\n",
        "for i in corre:\n",
        "  df_rec2.drop(df_rec2[df_rec2['nombre_comuna'] == i].index, inplace=True)\n",
        "\n",
        "# Eliminación del valor 'SIN DATO'\n",
        "df_rec2 = df_rec2[df_rec2['codigo_comuna'] != 'SIN DATO']"
      ],
      "metadata": {
        "id": "d904B4qLYUfs"
      },
      "execution_count": null,
      "outputs": []
    },
    {
      "cell_type": "code",
      "source": [
        "df_rec2['nombre_comuna'].unique()"
      ],
      "metadata": {
        "id": "CuUegwasfb4v"
      },
      "execution_count": null,
      "outputs": []
    },
    {
      "cell_type": "code",
      "source": [
        "df_rec2"
      ],
      "metadata": {
        "id": "PiE6MO9_heQn"
      },
      "execution_count": null,
      "outputs": []
    },
    {
      "cell_type": "code",
      "source": [
        "df_rec2['codigo_comuna'] = df_rec2['codigo_comuna'].replace({\n",
        "                                              '1':1, '2':2, '3':3, '4':4, '5':5, '6':6, '7':7, '8':8,\n",
        "                                              '9':9, '10':10, '11':11, '12':12, '13':13, '14':14, '15':15,\n",
        "                                              '16':16})\n",
        "df_rec2['codigo_comuna'].astype(int)\n",
        "df_rec2 = df_rec2.sort_values(by='codigo_comuna')\n",
        "# Reinicio de los indices\n",
        "df_rec2.reset_index(drop=True, inplace=True)\n",
        "df_rec2"
      ],
      "metadata": {
        "id": "TiX-h4SBmtDq"
      },
      "execution_count": null,
      "outputs": []
    },
    {
      "cell_type": "code",
      "source": [
        "# df_rec3 sera un DF donde esten almacenados todos los vehiculos recuperados año a año\n",
        "df_rec3 = df_rec1.groupby('año')['cantidad'].sum().reset_index()\n",
        "df_rec3.columns = ['año', 'total_cantidad']\n",
        "df_rec3"
      ],
      "metadata": {
        "id": "NbBRFmJJcZNf"
      },
      "execution_count": null,
      "outputs": []
    },
    {
      "cell_type": "markdown",
      "source": [
        "### **Base de datos de Estratificación**"
      ],
      "metadata": {
        "id": "ZIONOPpVjRRt"
      }
    },
    {
      "cell_type": "code",
      "source": [
        "# Copia del DataFrame original para su manipulación\n",
        "df_estra_b = df_estratos_barrio\n",
        "df_estra_b"
      ],
      "metadata": {
        "id": "9Q3MUCg3I47Z"
      },
      "execution_count": null,
      "outputs": []
    },
    {
      "cell_type": "markdown",
      "source": [
        "####Información no relevante"
      ],
      "metadata": {
        "id": "6h3kLqul1LB9"
      }
    },
    {
      "cell_type": "markdown",
      "source": [
        "La columna *'En Proceso de Estratificación'* contiene valores que no consideraremos para el estudio, por lo que decidimos eliminarla."
      ],
      "metadata": {
        "id": "x_1gSBM31Xgl"
      }
    },
    {
      "cell_type": "code",
      "source": [
        "df_estra_b = df_estra_b.drop(columns = ['En Proceso de Estratificación'])"
      ],
      "metadata": {
        "id": "Ja6QrwOV1X7U"
      },
      "execution_count": null,
      "outputs": []
    },
    {
      "cell_type": "markdown",
      "source": [
        "#### Valores duplicados"
      ],
      "metadata": {
        "id": "ToJ-UXAiowzm"
      }
    },
    {
      "cell_type": "code",
      "source": [
        "df_estra_b.duplicated().sum()"
      ],
      "metadata": {
        "id": "JseFxvmupQXJ"
      },
      "execution_count": null,
      "outputs": []
    },
    {
      "cell_type": "markdown",
      "source": [
        "No encontramos valores duplicados en la base de datos."
      ],
      "metadata": {
        "id": "9carLm7n2MKs"
      }
    },
    {
      "cell_type": "markdown",
      "source": [
        "#### Valores nulos"
      ],
      "metadata": {
        "id": "CE5XoV6FoyzM"
      }
    },
    {
      "cell_type": "code",
      "source": [
        "df_estra_b.isnull().sum()"
      ],
      "metadata": {
        "id": "BqL7IUQJpQvd"
      },
      "execution_count": null,
      "outputs": []
    },
    {
      "cell_type": "markdown",
      "source": [
        "Los datos nulos que contiene la base datos dan cuenta de que en ese barrio no hay hogares pertenecientes a dicho estrato."
      ],
      "metadata": {
        "id": "IbZWxuPz2Q88"
      }
    },
    {
      "cell_type": "markdown",
      "source": [
        "### Base de datos Estratificación modificada"
      ],
      "metadata": {
        "id": "NDe2qYXfC0ug"
      }
    },
    {
      "cell_type": "markdown",
      "source": [
        "Modificamos el nombre de las columnas '1.0', '2.0', '3.0', '4.0', '5.0', '6.0' y 'Predominante' para una mejor comprensión de estas."
      ],
      "metadata": {
        "id": "dVcRrfkaDBXg"
      }
    },
    {
      "cell_type": "code",
      "source": [
        "df_estra_b = df_estra_b.rename(columns={1.0: 'Estrato 1', 2.0: 'Estrato 2', 3.0: 'Estrato 3',\n",
        "                                  4.0: 'Estrato 4', 5.0: 'Estrato 5', 6.0: 'Estrato 6',\n",
        "                                  'Predominante': 'Estrato Predominante'})\n",
        "\n",
        "df_estra_b"
      ],
      "metadata": {
        "id": "BOfR_O6O26fc"
      },
      "execution_count": null,
      "outputs": []
    },
    {
      "cell_type": "code",
      "source": [
        "# Eliminación de los corregimos del DataFrame\n",
        "corre = ['ALTAVISTA', 'SAN CRISTOBAL', 'SAN ANTONIO DE PRADO', 'SANTA ELENA', 'PALMITAS']\n",
        "for i in corre:\n",
        "  df_estra_b.drop(df_estra_b[df_estra_b['Nombre Comuna'] == i].index, inplace=True)"
      ],
      "metadata": {
        "id": "N3j0xvc5rjcZ"
      },
      "execution_count": null,
      "outputs": []
    },
    {
      "cell_type": "code",
      "source": [
        "#Llenamos el dato faltante con un solo dato, en este caso el cero\n",
        "df_estra_b.fillna(0)"
      ],
      "metadata": {
        "id": "FPikURF47Jmz"
      },
      "execution_count": null,
      "outputs": []
    },
    {
      "cell_type": "markdown",
      "source": [
        "Creamos un diccionario con las el nombre de los barrios por comuna para su manipulación"
      ],
      "metadata": {
        "id": "o04IfF98DUBJ"
      }
    },
    {
      "cell_type": "code",
      "source": [
        "df_estra_c = df_estratos_comuna\n",
        "df_estra_c"
      ],
      "metadata": {
        "id": "daQh4ArkgPDX"
      },
      "execution_count": null,
      "outputs": []
    },
    {
      "cell_type": "code",
      "source": [
        "df_estra_c.info()"
      ],
      "metadata": {
        "id": "ngPRaNQajbM7"
      },
      "execution_count": null,
      "outputs": []
    },
    {
      "cell_type": "code",
      "source": [
        "#df_estra2a = df_estra2.drop(columns = ['Cantidad de predios\t'])\n",
        "df_estra_c = df_estra_c.drop('Cantidad de predios ', axis = 1)"
      ],
      "metadata": {
        "id": "kkRMlj7zpqJR"
      },
      "execution_count": null,
      "outputs": []
    },
    {
      "cell_type": "code",
      "source": [
        "# Eliminación de los corregimos del DataFrame\n",
        "corre = ['ALTAVISTA', 'SAN CRISTOBAL', 'SAN ANTONIO DE PRADO', 'SANTA ELENA', 'PALMITAS']\n",
        "for i in corre:\n",
        "  df_estra_c.drop(df_estra_c[df_estra_c['Nombre Comuna'] == i].index, inplace=True)"
      ],
      "metadata": {
        "id": "z97aUKlWkoJ-"
      },
      "execution_count": null,
      "outputs": []
    },
    {
      "cell_type": "code",
      "source": [
        "df_estra_c"
      ],
      "metadata": {
        "id": "wP6Z6KSAqwYA"
      },
      "execution_count": null,
      "outputs": []
    },
    {
      "cell_type": "markdown",
      "source": [
        "___\n",
        "## Descarga de las bases de datos"
      ],
      "metadata": {
        "id": "Mw8csU3DyW1u"
      }
    },
    {
      "cell_type": "code",
      "source": [
        "df_cam1.to_csv('Camaras.csv')\n",
        "df_hurto1.to_csv('Hurtos.csv')\n",
        "df_rec1.to_csv('Recuperacion1.csv')\n",
        "df_rec2.to_csv('Recuperacion2.csv')\n",
        "df_rec3.to_csv('Recuperacion3.csv')\n",
        "df_estra_b.to_csv('Estratos barrios.csv')\n",
        "df_estra_c.to_csv('Estratos comunas.csv')"
      ],
      "metadata": {
        "id": "LthBV174xw3h"
      },
      "execution_count": null,
      "outputs": []
    },
    {
      "cell_type": "code",
      "source": [
        "from google.colab import files\n",
        "files.download('Camaras.csv')\n",
        "files.download('Hurtos.csv')\n",
        "# files.download('Recuperacion1.csv')\n",
        "# files.download('Recuperacion2.csv')\n",
        "# files.download('Recuperacion3.csv')\n",
        "# files.download('Estratos barrios.csv')\n",
        "# files.download('Estratos comunas.csv')"
      ],
      "metadata": {
        "id": "EMkSmiTbzE7C"
      },
      "execution_count": null,
      "outputs": []
    },
    {
      "cell_type": "code",
      "source": [
        "df_hurto1.info()"
      ],
      "metadata": {
        "id": "N4F4oZxblnW6"
      },
      "execution_count": null,
      "outputs": []
    },
    {
      "cell_type": "markdown",
      "source": [
        "## **CONSULTAS SQL**"
      ],
      "metadata": {
        "id": "pG1GSvUAM6kN"
      }
    },
    {
      "cell_type": "markdown",
      "source": [
        "* De la base de datos cámaras, acceder a la cantidad de cámaras de cada comuna.\n",
        "\n",
        "* De la base de datos de hurtos seleccione los hurtos que se han registrado en cada comuna.\n",
        "\n",
        "* Genere una tabla que dé cuenta de los hurtos que se han registrado en rangos de dos horas (Ej. de las 00:00 a las 02:00…).\n",
        "\n",
        "* Genere una tabla que muestre la cantidad de recuperación, en el último año, de las comunas que cuentan con cámaras SIMM.\n",
        "\n",
        "* Genere una tabla donde muestre la cantidad de hurtos entre semana y fin de semana teniendo en cuenta el rango horario de mayor y menor cantidad de hurtos.\n"
      ],
      "metadata": {
        "id": "nPqF8ToSNRh2"
      }
    },
    {
      "cell_type": "markdown",
      "source": [
        "---\n",
        "# **Gráficos**"
      ],
      "metadata": {
        "id": "jFqRx9ZySmNu"
      }
    },
    {
      "cell_type": "markdown",
      "source": [
        "### Diagrama de torta"
      ],
      "metadata": {
        "id": "r2ih0Z5CexLJ"
      }
    },
    {
      "cell_type": "code",
      "source": [
        "conteo = df_hurto1['codigo_comuna'].value_counts()\n",
        "conteo = dict(conteo)\n",
        "conteo = dict(sorted(conteo.items()))\n",
        "conteo"
      ],
      "metadata": {
        "id": "vRD3Z_XjgFky"
      },
      "execution_count": null,
      "outputs": []
    },
    {
      "cell_type": "code",
      "source": [
        "explo = [0,0,0,0,0,0,0,0,0,0.2,0,0,0,0,0,0]\n",
        "\n",
        "fig, ax = plt.subplots(figsize=(10, 10))\n",
        "ax.pie(conteo.values(), labels=conteo.keys(), colors = ['#D3D3D3', 'aquamarine', '#1E90FF', 'teal'], explode = explo, autopct='%1.1f%%', startangle=180)\n",
        "ax.axis('equal')    # De este modo la figura tendrá forma circular\n",
        "fig.show()"
      ],
      "metadata": {
        "id": "07lq52bOhZ2K"
      },
      "execution_count": null,
      "outputs": []
    },
    {
      "cell_type": "markdown",
      "source": [
        "___\n",
        "### Linea de tiempo"
      ],
      "metadata": {
        "id": "AH4FqFpszEvp"
      }
    },
    {
      "cell_type": "markdown",
      "source": [
        "#### Agrupación por mes hurtos totales"
      ],
      "metadata": {
        "id": "D2OATY8FpAhN"
      }
    },
    {
      "cell_type": "code",
      "source": [
        "df_hurto1"
      ],
      "metadata": {
        "collapsed": true,
        "id": "flOS8_3CMiBL"
      },
      "execution_count": null,
      "outputs": []
    },
    {
      "cell_type": "code",
      "source": [
        "grouped_df2 = df_hurto1.groupby(['Año', 'Mes']).size().reset_index(name='count')\n",
        "grouped_df2['Mes'] = grouped_df2['Mes'].replace({\n",
        "                                              'Ene':1, 'Feb':2, 'Mar':3, 'Abr':4,\n",
        "                                              'May':5, 'Jun':6, 'Jul':7, 'Ago':8,\n",
        "                                              'Sep':9, 'Oct':10, 'Nov':11, 'Dic':12\n",
        "                                              })\n",
        "grouped_df2['Fecha'] = grouped_df2.apply(lambda row: f\"{row['Año']}-{row['Mes']}\", axis=1)\n",
        "grouped_df2['Fecha'] = pd.to_datetime(grouped_df2['Fecha'], format='%Y-%m')\n",
        "print(grouped_df2)"
      ],
      "metadata": {
        "id": "yKZVt6KDlbXF"
      },
      "execution_count": null,
      "outputs": []
    },
    {
      "cell_type": "code",
      "source": [
        "grouped_df2 = grouped_df2.sort_values(by='Fecha')\n",
        "grouped_df2 = grouped_df2.drop(columns=['Año', 'Mes'])\n",
        "grouped_df2 = grouped_df2.iloc[:, [1, 0]]\n",
        "grouped_df2 = grouped_df2.reset_index(drop=True)\n",
        "print(grouped_df2)"
      ],
      "metadata": {
        "id": "m7kq_7hbpbs9"
      },
      "execution_count": null,
      "outputs": []
    },
    {
      "cell_type": "code",
      "source": [
        "fig, ax = plt.subplots(figsize=(20, 6))\n",
        "ax.plot(grouped_df2['Fecha'], grouped_df2['count'], marker = 'o');\n",
        "plt.title('Evolución de los hurtos en el tiempo', fontdict = {'fontsize':20, 'fontweight':'bold'})\n",
        "plt.ylabel('Cantidad de hurtos', fontdict = {'fontsize':15})\n",
        "plt.grid(axis = 'y', color = 'green', linestyle = 'dashed')\n",
        "fig.show(warn=False)"
      ],
      "metadata": {
        "id": "n_XBKVtJueXG"
      },
      "execution_count": null,
      "outputs": []
    },
    {
      "cell_type": "markdown",
      "source": [
        "#### Agrupación por mes hurtos por comuna"
      ],
      "metadata": {
        "id": "bId-Q18OfZUW"
      }
    },
    {
      "cell_type": "code",
      "source": [
        "df_hurto1['codigo_comuna'] = df_hurto1['codigo_comuna'].astype(int)"
      ],
      "metadata": {
        "collapsed": true,
        "id": "hPx4COJJLK2k"
      },
      "execution_count": null,
      "outputs": []
    },
    {
      "cell_type": "code",
      "source": [
        "grouped_dfv = df_hurto1.groupby(['Año', 'Mes', 'codigo_comuna']).size().reset_index(name='count')\n",
        "grouped_dfv['Mes'] = grouped_dfv['Mes'].replace({\n",
        "                                              'Ene':1, 'Feb':2, 'Mar':3, 'Abr':4,\n",
        "                                              'May':5, 'Jun':6, 'Jul':7, 'Ago':8,\n",
        "                                              'Sep':9, 'Oct':10, 'Nov':11, 'Dic':12\n",
        "                                              })\n",
        "grouped_dfv['Fecha'] = grouped_dfv.apply(lambda row: f\"{row['Año']}-{row['Mes']}\", axis=1)\n",
        "grouped_dfv['Fecha'] = pd.to_datetime(grouped_dfv['Fecha'])\n",
        "grouped_dfv = grouped_dfv.sort_values(by='Fecha')\n",
        "grouped_dfv = grouped_dfv.drop(columns=['Año', 'Mes'])\n",
        "grouped_dfv = grouped_dfv.reset_index(drop=True)\n",
        "print(grouped_dfv)"
      ],
      "metadata": {
        "collapsed": true,
        "id": "DPpvm5YxN3iA"
      },
      "execution_count": null,
      "outputs": []
    },
    {
      "cell_type": "code",
      "source": [
        "comunas = {}\n",
        "for i in range(1, 17):\n",
        "    comuna_name = 'comuna' + str(i)\n",
        "    comunas[comuna_name] = grouped_dfv[grouped_dfv['codigo_comuna'] == i].reset_index(drop=True).sort_values(by='Fecha')"
      ],
      "metadata": {
        "collapsed": true,
        "id": "C5WVLOWwOob0"
      },
      "execution_count": null,
      "outputs": []
    },
    {
      "cell_type": "code",
      "source": [
        "# fig, ax = plt.subplots(figsize=(20, 6))\n",
        "# for i in range(1,17):\n",
        "#     ax.plot(comunas['comuna' + str(i)]['Fecha'], comunas['comuna' + str(i)]['count'],marker = 'o', label = 'Comuna ' + str(i));\n",
        "# ax.legend(loc='upper left')\n",
        "# plt.title('Evolución de los hurtos por comuna en el tiempo', fontdict = {'fontsize':15, 'fontweight':'bold'})\n",
        "# fig.show(warn=False)"
      ],
      "metadata": {
        "collapsed": true,
        "id": "zLZf5amMT7Rs"
      },
      "execution_count": null,
      "outputs": []
    },
    {
      "cell_type": "code",
      "source": [
        "fig, ax = plt.subplots(figsize=(20, 6))\n",
        "ax.plot(comunas['comuna10']['Fecha'], comunas['comuna10']['count'],marker = 'o', label = 'Comuna 10');\n",
        "ax.legend(loc='upper left')\n",
        "plt.grid(axis = 'y', color = 'green', linestyle = 'dashed')\n",
        "plt.title('Evolución de los hurtos por comuna en el tiempo', fontdict = {'fontsize':15, 'fontweight':'bold'})\n",
        "fig.show(warn=False)"
      ],
      "metadata": {
        "id": "VlhAxPLUb1WJ"
      },
      "execution_count": null,
      "outputs": []
    },
    {
      "cell_type": "code",
      "source": [
        "conteo = df_hurto1['nombre_comuna'].value_counts()\n",
        "conteo"
      ],
      "metadata": {
        "id": "LovKk8uNBZal"
      },
      "execution_count": null,
      "outputs": []
    },
    {
      "cell_type": "code",
      "source": [
        "contcam =df_cam1['comuna'].value_counts()\n",
        "contcam"
      ],
      "metadata": {
        "id": "04eSKHeOBszf"
      },
      "execution_count": null,
      "outputs": []
    },
    {
      "cell_type": "markdown",
      "source": [
        "---\n",
        "### Diagrama de barras"
      ],
      "metadata": {
        "id": "t0MN6Uj22V-L"
      }
    },
    {
      "cell_type": "markdown",
      "source": [
        "#### Cantidad vs dia de la semana"
      ],
      "metadata": {
        "id": "l9feS5rpq7hM"
      }
    },
    {
      "cell_type": "code",
      "source": [
        "diagra = df_hurto1.groupby(['Año', 'Mes', 'Día']).size().reset_index(name='count')\n",
        "\n",
        "diagra['Mes'] = diagra['Mes'].map({\n",
        "    'Ene': 1, 'Feb': 2, 'Mar': 3, 'Abr': 4,\n",
        "    'May': 5, 'Jun': 6, 'Jul': 7, 'Ago': 8,\n",
        "    'Sep': 9, 'Oct': 10, 'Nov': 11, 'Dic': 12\n",
        "})\n",
        "\n",
        "diagra['Fecha'] = pd.to_datetime(diagra.apply(lambda row: f\"{row['Año']}-{row['Mes']}-{row['Día']}\", axis=1))\n",
        "diagra = diagra.drop(columns=['Año', 'Mes', 'Día']).reset_index(drop=True)\n",
        "diagra = diagra.sort_values(by='Fecha')\n",
        "\n",
        "diagra['Día'] = diagra['Fecha'].dt.day_name()\n",
        "diagramadias = diagra.groupby('Día')['count'].sum().reset_index()\n",
        "\n",
        "diagramadias['Día'] = diagramadias['Día'].map({\n",
        "    'Monday': 'Lunes', 'Tuesday': 'Martes', 'Wednesday': 'Miércoles',\n",
        "    'Thursday': 'Jueves', 'Friday': 'Viernes', 'Saturday': 'Sábado',\n",
        "    'Sunday': 'Domingo'\n",
        "})\n",
        "diagramadias[\"Día\"] = pd.Categorical(diagramadias[\"Día\"], categories=[\n",
        "    'Lunes', 'Martes', 'Miércoles', 'Jueves', 'Viernes', 'Sábado', 'Domingo'\n",
        "], ordered=True)\n",
        "diagramadias = diagramadias.sort_values(by='Día')\n",
        "diagramadias = diagramadias.reset_index(drop=True)\n",
        "\n",
        "diagramadias\n"
      ],
      "metadata": {
        "id": "U_wQiB1NmkRO"
      },
      "execution_count": null,
      "outputs": []
    },
    {
      "cell_type": "code",
      "source": [
        "fig = px.bar(diagramadias, x='Día', y='count')\n",
        "fig.show()"
      ],
      "metadata": {
        "id": "02X1y8IhsM7V"
      },
      "execution_count": null,
      "outputs": []
    },
    {
      "cell_type": "markdown",
      "source": [
        "#### Cantidad vs hombre-mujer"
      ],
      "metadata": {
        "id": "3crpCbKvsr-b"
      }
    },
    {
      "cell_type": "markdown",
      "source": [
        "Diagrama de barras agrupadas que muestre según el genero la cantidad de hurtos que ocurren cada día de la semana, buscando una correlación temporal con los días de la semana para inducir el diagrama de hurtos por fin de semana\n"
      ],
      "metadata": {
        "id": "XKDO37dW2apD"
      }
    },
    {
      "cell_type": "code",
      "source": [
        "diagrami = df_hurto1.groupby(['Año', 'Mes', 'Día', 'sexo']).size().reset_index(name='count')\n",
        "\n",
        "diagrami['Mes'] = diagrami['Mes'].map({\n",
        "    'Ene': 1, 'Feb': 2, 'Mar': 3, 'Abr': 4,\n",
        "    'May': 5, 'Jun': 6, 'Jul': 7, 'Ago': 8,\n",
        "    'Sep': 9, 'Oct': 10, 'Nov': 11, 'Dic': 12\n",
        "})\n",
        "\n",
        "diagrami['Fecha'] = pd.to_datetime(diagrami.apply(lambda row: f\"{row['Año']}-{row['Mes']}-{row['Día']}\", axis=1))\n",
        "diagrami = diagrami.drop(columns=['Año', 'Mes', 'Día']).reset_index(drop=True)\n",
        "diagrami = diagrami.sort_values(by='Fecha')\n",
        "\n",
        "diagrami['Día'] = diagrami['Fecha'].dt.day_name()\n",
        "diagrami"
      ],
      "metadata": {
        "id": "TKvNQ545sqcx"
      },
      "execution_count": null,
      "outputs": []
    },
    {
      "cell_type": "code",
      "source": [
        "diagramasexo = diagrami.groupby(['Día', \"sexo\"])[\"count\"].sum().unstack().reset_index()\n",
        "diagramasexo = diagramasexo[['Día', 'Hombre', 'Mujer']]\n",
        "diagramasexo['Día'] = diagramasexo['Día'].map({\n",
        "    'Monday': 'Lunes', 'Tuesday': 'Martes', 'Wednesday': 'Miércoles',\n",
        "    'Thursday': 'Jueves', 'Friday': 'Viernes', 'Saturday': 'Sábado',\n",
        "    'Sunday': 'Domingo'\n",
        "})\n",
        "diagramasexo[\"Día\"] = pd.Categorical(diagramasexo[\"Día\"], categories=[\n",
        "    'Lunes', 'Martes', 'Miércoles', 'Jueves', 'Viernes', 'Sábado', 'Domingo'\n",
        "], ordered=True)\n",
        "diagramasexo = diagramasexo.sort_values(by='Día')\n",
        "diagramasexo = diagramasexo.reset_index(drop=True)\n",
        "diagramasexo"
      ],
      "metadata": {
        "id": "JzdIUSABwtPD"
      },
      "execution_count": null,
      "outputs": []
    },
    {
      "cell_type": "code",
      "source": [
        "fig = go.Figure()\n",
        "\n",
        "fig.add_trace(go.Bar(name='Mujer', x=diagramasexo['Día'], y=diagramasexo['Mujer']))\n",
        "fig.add_trace(go.Bar(name='Hombre', x=diagramasexo['Día'], y=diagramasexo['Hombre']))\n",
        "\n",
        "fig.show()"
      ],
      "metadata": {
        "id": "lemDyrC75Qho"
      },
      "execution_count": null,
      "outputs": []
    },
    {
      "cell_type": "markdown",
      "source": [
        "#### Cantidad por día de la semana según comuna"
      ],
      "metadata": {
        "id": "eQAPcWUmlMsZ"
      }
    },
    {
      "cell_type": "code",
      "source": [
        "diagrami = df_hurto1.groupby(['Año', 'Mes', 'Día', 'nombre_comuna']).size().reset_index(name='count')\n",
        "\n",
        "diagrami['Mes'] = diagrami['Mes'].map({\n",
        "    'Ene': 1, 'Feb': 2, 'Mar': 3, 'Abr': 4,\n",
        "    'May': 5, 'Jun': 6, 'Jul': 7, 'Ago': 8,\n",
        "    'Sep': 9, 'Oct': 10, 'Nov': 11, 'Dic': 12\n",
        "})\n",
        "\n",
        "diagrami['Fecha'] = pd.to_datetime(diagrami.apply(lambda row: f\"{row['Año']}-{row['Mes']}-{row['Día']}\", axis=1))\n",
        "diagrami = diagrami.drop(columns=['Año', 'Mes', 'Día']).reset_index(drop=True)\n",
        "diagrami = diagrami.sort_values(by='Fecha')\n",
        "\n",
        "diagrami['Día'] = diagrami['Fecha'].dt.day_name()\n",
        "diagrami"
      ],
      "metadata": {
        "id": "xitwnnZU6kye"
      },
      "execution_count": null,
      "outputs": []
    },
    {
      "cell_type": "code",
      "source": [
        "diagramacomuna = diagrami.groupby(['Día', 'nombre_comuna'])['count'].sum().unstack().reset_index()\n",
        "diagramacomuna"
      ],
      "metadata": {
        "id": "j7Y2tX4f63mS"
      },
      "execution_count": null,
      "outputs": []
    },
    {
      "cell_type": "markdown",
      "source": [
        "#### Cantidad vs hora"
      ],
      "metadata": {
        "id": "LdO6b6wbUIu9"
      }
    },
    {
      "cell_type": "code",
      "source": [
        "# Crear rangos de una hora\n",
        "rangos= pd.cut(df_hurto1['Hora'], range(0, 2500, 100))\n",
        "# Contar hurtos por rango de hora\n",
        "hurtos_por_rango = rangos.value_counts()\n",
        "# Ordenar hurtos por rango de hora\n",
        "hurtos_por_rango = hurtos_por_rango.sort_index()\n",
        "hurtos_por_rango"
      ],
      "metadata": {
        "id": "d51IAjXRUKcr"
      },
      "execution_count": null,
      "outputs": []
    },
    {
      "cell_type": "code",
      "source": [
        "s = pd.DataFrame(hurtos_por_rango)\n",
        "s = s.reset_index().rename(columns={'index': 'indices', 'count': 'Hurtos'})"
      ],
      "metadata": {
        "id": "SFLa_TuuahHW"
      },
      "execution_count": null,
      "outputs": []
    },
    {
      "cell_type": "code",
      "source": [
        "s.plot(kind='bar', x='Hora', y='Hurtos', color= 'g')\n",
        "plt.title('Hurtos por rango horario')\n",
        "plt.xlabel('Rango horario')\n",
        "plt.ylabel('Cantidad de hurtos')\n",
        "plt.show()"
      ],
      "metadata": {
        "id": "zTcyfdB3hUDe"
      },
      "execution_count": null,
      "outputs": []
    },
    {
      "cell_type": "markdown",
      "source": [
        "#### Modalidad vs comuna"
      ],
      "metadata": {
        "id": "5Gjrrb8ff4L0"
      }
    },
    {
      "cell_type": "code",
      "source": [
        "df_hurto1['modalidad'].unique()"
      ],
      "metadata": {
        "id": "2OvTFpcBlE5c",
        "collapsed": true
      },
      "execution_count": null,
      "outputs": []
    },
    {
      "cell_type": "code",
      "source": [
        "barras = df_hurto1.groupby(['codigo_comuna', 'modalidad']).size().reset_index(name='count')\n",
        "barras"
      ],
      "metadata": {
        "id": "yQC0rUdIf1SX",
        "collapsed": true
      },
      "execution_count": null,
      "outputs": []
    },
    {
      "cell_type": "code",
      "source": [],
      "metadata": {
        "id": "0gxlSRcfa7GI"
      },
      "execution_count": null,
      "outputs": []
    },
    {
      "cell_type": "markdown",
      "source": [
        "### Grafico de radar"
      ],
      "metadata": {
        "id": "9AWjpeqBSs_e"
      }
    },
    {
      "cell_type": "code",
      "source": [
        "from math import pi\n",
        "# number of variable\n",
        "categories = df_hurto1['codigo_comuna'].unique()\n",
        "N = len(categories)\n",
        "\n",
        "# We are going to plot the first line of the data frame.\n",
        "# But we need to repeat the first value to close the circular graph:\n",
        "values = df_hurto1['codigo_comuna'].value_counts().tolist()\n",
        "values += values[:1]\n",
        "values\n",
        "\n",
        "# What will be the angle of each axis in the plot? (we divide the plot / number of variable)\n",
        "angles = [n / float(N) * 2 * pi for n in range(N)]\n",
        "angles += angles[:1]\n",
        "\n",
        "# Initialise the spider plot\n",
        "ax = plt.subplot(111, polar=True)\n",
        "\n",
        "# Draw one axe per variable + add labels\n",
        "plt.xticks(angles[:-1], categories, color='r', size=5)\n",
        "\n",
        "# Draw ylabels\n",
        "ax.set_rlabel_position(0)\n",
        "plt.yticks([2000, 4000, 6000, 8000, 10000, 12000], [\"2K\",\"4K\",\"6K\",'8K', '10K', '12K'], color='black', size=7)\n",
        "plt.ylim(0,12600)\n",
        "\n",
        "# Plot data\n",
        "ax.plot(angles, values, linewidth=0.5, linestyle='solid', color= 'r')\n",
        "\n",
        "# Fill area\n",
        "ax.fill(angles, values, 'r', alpha=0.1)\n",
        "\n",
        "# Show the graph\n",
        "plt.show()"
      ],
      "metadata": {
        "id": "c2A3D8Q6KtH4"
      },
      "execution_count": null,
      "outputs": []
    },
    {
      "cell_type": "code",
      "source": [
        "import numpy as np\n",
        "from scipy.optimize import fsolve\n",
        "\n",
        "# Define the cubic equation\n",
        "def cubic_equation(Q):\n",
        "    return Q**3 - 10*Q**2 - 4000\n",
        "\n",
        "# Use fsolve to find the roots\n",
        "initial_guess = 10\n",
        "Q_star = fsolve(cubic_equation, initial_guess)[0]\n",
        "\n",
        "# Calculate the cost average (CMe) at Q_star\n",
        "CMe_star = Q_star**2 - 20*Q_star + 100 + 8000/Q_star\n",
        "\n",
        "# Calculate the price (P) at equilibrium\n",
        "P_star = CMe_star\n",
        "\n",
        "# Calculate the number of firms (n)\n",
        "n_firms = (2500 - 3 * P_star) / Q_star\n",
        "\n",
        "Q_star, P_star, n_firms"
      ],
      "metadata": {
        "id": "mvm-LqrhMZIs"
      },
      "execution_count": null,
      "outputs": []
    }
  ]
}
