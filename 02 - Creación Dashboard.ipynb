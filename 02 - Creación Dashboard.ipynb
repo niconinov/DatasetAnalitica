{
  "nbformat": 4,
  "nbformat_minor": 0,
  "metadata": {
    "colab": {
      "private_outputs": true,
      "provenance": [],
      "collapsed_sections": [
        "vn3w1DZ-y0XZ",
        "ZDkre2ely74a",
        "jFqRx9ZySmNu"
      ]
    },
    "kernelspec": {
      "name": "python3",
      "display_name": "Python 3"
    },
    "language_info": {
      "name": "python"
    }
  },
  "cells": [
    {
      "cell_type": "markdown",
      "source": [
        "___\n",
        "## Cargue de librerias"
      ],
      "metadata": {
        "id": "2dnJ5LR42sI0"
      }
    },
    {
      "cell_type": "code",
      "source": [
        "!pip install unidecode"
      ],
      "metadata": {
        "id": "fqbvaGtF2r2u"
      },
      "execution_count": null,
      "outputs": []
    },
    {
      "cell_type": "code",
      "source": [
        "import pandas as pd\n",
        "import numpy as np\n",
        "from math import pi\n",
        "import matplotlib.pyplot as plt\n",
        "from datetime import datetime\n",
        "import unidecode\n",
        "import plotly.express as px\n",
        "import plotly.graph_objects as go\n",
        "import plotly.subplots as sp\n",
        "import seaborn as sns\n",
        "from matplotlib.patches import Patch"
      ],
      "metadata": {
        "id": "wv71k9U82n_I"
      },
      "execution_count": null,
      "outputs": []
    },
    {
      "cell_type": "markdown",
      "source": [
        "___\n",
        "## Instalación del entorno de GitHub"
      ],
      "metadata": {
        "id": "vn3w1DZ-y0XZ"
      }
    },
    {
      "cell_type": "code",
      "source": [
        "# Instalar git en Colab si no está instalado\n",
        "!apt-get install git"
      ],
      "metadata": {
        "id": "zIVEJ4fTvNZs"
      },
      "execution_count": null,
      "outputs": []
    },
    {
      "cell_type": "code",
      "source": [
        "# Clonar el repositorio de GitHub\n",
        "!git clone https://github.com/niconinov/DatasetAnalitica.git"
      ],
      "metadata": {
        "id": "MKl6tEfJvOJ_"
      },
      "execution_count": null,
      "outputs": []
    },
    {
      "cell_type": "markdown",
      "source": [
        "___\n",
        "## Descarga de las bases de datos en el Notebook"
      ],
      "metadata": {
        "id": "ZDkre2ely74a"
      }
    },
    {
      "cell_type": "code",
      "source": [
        "names =['Camaras', 'Hurtos', 'Recuperacion1', 'Recuperacion2', 'Recuperacion3', 'Estratos barrios', 'Estratos comunas']"
      ],
      "metadata": {
        "id": "3P41pkO5zIJj"
      },
      "execution_count": null,
      "outputs": []
    },
    {
      "cell_type": "code",
      "source": [
        "dfs = {}\n",
        "\n",
        "for i in names:\n",
        "  dfs[i] = pd.read_csv(f'/content/DatasetAnalitica/{i}.csv')"
      ],
      "metadata": {
        "id": "cBFhs0NAyySg"
      },
      "execution_count": null,
      "outputs": []
    },
    {
      "cell_type": "code",
      "source": [
        "df_cam = pd.DataFrame(dfs['Camaras'])\n",
        "df_hurto = pd.DataFrame(dfs['Hurtos'].iloc[:, 1:])\n",
        "df_rec1 = pd.DataFrame(dfs['Recuperacion1'].iloc[:, 1:])\n",
        "df_rec2 = pd.DataFrame(dfs['Recuperacion2'].iloc[:, 1:])\n",
        "df_rec3 = pd.DataFrame(dfs['Recuperacion3'].iloc[:, 1:])\n",
        "df_estratos_barrio = pd.DataFrame(dfs['Estratos barrios'].iloc[:, 1:])\n",
        "df_estratos_comuna = pd.DataFrame(dfs['Estratos comunas'].iloc[:, 1:])"
      ],
      "metadata": {
        "id": "aCcsB4f3vYFq"
      },
      "execution_count": null,
      "outputs": []
    },
    {
      "cell_type": "code",
      "source": [
        "df_hurto"
      ],
      "metadata": {
        "id": "T1kYZZGe1I-m"
      },
      "execution_count": null,
      "outputs": []
    },
    {
      "cell_type": "code",
      "source": [
        "df_estratos_comuna"
      ],
      "metadata": {
        "id": "rSZO-ImWa7e8"
      },
      "execution_count": null,
      "outputs": []
    },
    {
      "cell_type": "code",
      "source": [
        "df_estratos_barrio"
      ],
      "metadata": {
        "id": "noTxdl-lbBDU"
      },
      "execution_count": null,
      "outputs": []
    },
    {
      "cell_type": "markdown",
      "source": [
        "---\n",
        "# **Gráficos**"
      ],
      "metadata": {
        "id": "jFqRx9ZySmNu"
      }
    },
    {
      "cell_type": "markdown",
      "source": [
        "### Diagrama de torta"
      ],
      "metadata": {
        "id": "r2ih0Z5CexLJ"
      }
    },
    {
      "cell_type": "code",
      "source": [
        "conteo = df_hurto['codigo_comuna'].value_counts()\n",
        "conteo = dict(conteo)\n",
        "conteo = dict(sorted(conteo.items()))\n",
        "conteo"
      ],
      "metadata": {
        "id": "vRD3Z_XjgFky"
      },
      "execution_count": null,
      "outputs": []
    },
    {
      "cell_type": "code",
      "source": [
        "explo = [0,0,0,0,0,0,0,0,0,0.2,0,0,0,0,0,0]\n",
        "\n",
        "fig, ax = plt.subplots(figsize=(10, 10))\n",
        "ax.pie(conteo.values(), labels=conteo.keys(), colors = ['#D3D3D3', 'aquamarine', '#1E90FF', 'teal'], explode = explo, autopct='%1.1f%%', startangle=180)\n",
        "ax.axis('equal')    # De este modo la figura tendrá forma circular\n",
        "fig.show()"
      ],
      "metadata": {
        "id": "07lq52bOhZ2K"
      },
      "execution_count": null,
      "outputs": []
    },
    {
      "cell_type": "markdown",
      "source": [
        "___\n",
        "### Linea de tiempo"
      ],
      "metadata": {
        "id": "AH4FqFpszEvp"
      }
    },
    {
      "cell_type": "markdown",
      "source": [
        "#### Agrupación por mes hurtos totales"
      ],
      "metadata": {
        "id": "D2OATY8FpAhN"
      }
    },
    {
      "cell_type": "code",
      "source": [
        "grouped_df2 = df_hurto.groupby(['Año', 'Mes']).size().reset_index(name='count')\n",
        "grouped_df2['Mes'] = grouped_df2['Mes'].replace({\n",
        "                                              'Ene':1, 'Feb':2, 'Mar':3, 'Abr':4,\n",
        "                                              'May':5, 'Jun':6, 'Jul':7, 'Ago':8,\n",
        "                                              'Sep':9, 'Oct':10, 'Nov':11, 'Dic':12\n",
        "                                              })\n",
        "grouped_df2['Fecha'] = grouped_df2.apply(lambda row: f\"{row['Año']}-{row['Mes']}\", axis=1)\n",
        "grouped_df2['Fecha'] = pd.to_datetime(grouped_df2['Fecha'], format='%Y-%m')\n",
        "grouped_df2 = grouped_df2.sort_values(by='Fecha')\n",
        "grouped_df2 = grouped_df2.drop(columns=['Año', 'Mes'])\n",
        "grouped_df2 = grouped_df2.iloc[:, [1, 0]]\n",
        "grouped_df2 = grouped_df2.reset_index(drop=True)\n",
        "print(grouped_df2)"
      ],
      "metadata": {
        "id": "yKZVt6KDlbXF"
      },
      "execution_count": null,
      "outputs": []
    },
    {
      "cell_type": "code",
      "source": [
        "fig, ax = plt.subplots(figsize=(20, 6))\n",
        "ax.plot(grouped_df2['Fecha'], grouped_df2['count'], marker = 'o');\n",
        "plt.title('Evolución de los hurtos en el tiempo', fontdict = {'fontsize':20, 'fontweight':'bold'})\n",
        "plt.ylabel('Cantidad de hurtos', fontdict = {'fontsize':15})\n",
        "plt.grid(axis = 'y', color = 'green', linestyle = 'dashed')\n",
        "fig.show(warn=False)"
      ],
      "metadata": {
        "id": "n_XBKVtJueXG"
      },
      "execution_count": null,
      "outputs": []
    },
    {
      "cell_type": "code",
      "source": [
        "fig = go.Figure()\n",
        "fig.add_trace(go.Scatter(x=grouped_df2['Fecha'], y=grouped_df2['count'], mode='lines+markers'))\n",
        "fig.update_traces(line=dict(color='#1B676B', width=1),\n",
        "                  marker=dict(size=8, symbol='diamond-wide'))\n",
        "fig.update_layout(\n",
        "    title='Evolución de los hurtos en el tiempo', title_font=dict(size=30, color='black',  family=\"Arial Black\"),\n",
        "    yaxis_title='Cantidad de hurtos',\n",
        "    showlegend=False,\n",
        "    width=1500,\n",
        "    height=500,\n",
        "    plot_bgcolor='white'\n",
        ")\n",
        "# Agregar grilla a al eje y\n",
        "fig.update_yaxes(showgrid=True, gridcolor='gray')\n",
        "# Dar fotomato al eje x\n",
        "fig.update_xaxes(\n",
        "    dtick=\"M6\",\n",
        "    tickformat=\"%b\\n%Y\",\n",
        "    ticklabelmode=\"period\")\n",
        "\n",
        "fig.show()"
      ],
      "metadata": {
        "id": "Jo-MvO2N38yV"
      },
      "execution_count": null,
      "outputs": []
    },
    {
      "cell_type": "markdown",
      "source": [
        "#### Agrupación por mes hurtos por comuna"
      ],
      "metadata": {
        "id": "bId-Q18OfZUW"
      }
    },
    {
      "cell_type": "code",
      "source": [
        "df_hurto['codigo_comuna'] = df_hurto['codigo_comuna'].astype(int)"
      ],
      "metadata": {
        "collapsed": true,
        "id": "hPx4COJJLK2k"
      },
      "execution_count": null,
      "outputs": []
    },
    {
      "cell_type": "code",
      "source": [
        "grouped_dfv = df_hurto.groupby(['Año', 'Mes', 'codigo_comuna']).size().reset_index(name='count')\n",
        "grouped_dfv['Mes'] = grouped_dfv['Mes'].replace({\n",
        "                                              'Ene':1, 'Feb':2, 'Mar':3, 'Abr':4,\n",
        "                                              'May':5, 'Jun':6, 'Jul':7, 'Ago':8,\n",
        "                                              'Sep':9, 'Oct':10, 'Nov':11, 'Dic':12\n",
        "                                              })\n",
        "grouped_dfv['Fecha'] = grouped_dfv.apply(lambda row: f\"{row['Año']}-{row['Mes']}\", axis=1)\n",
        "grouped_dfv['Fecha'] = pd.to_datetime(grouped_dfv['Fecha'])\n",
        "grouped_dfv = grouped_dfv.sort_values(by='Fecha')\n",
        "grouped_dfv = grouped_dfv.drop(columns=['Año', 'Mes'])\n",
        "grouped_dfv = grouped_dfv.reset_index(drop=True)\n",
        "print(grouped_dfv)"
      ],
      "metadata": {
        "collapsed": true,
        "id": "DPpvm5YxN3iA"
      },
      "execution_count": null,
      "outputs": []
    },
    {
      "cell_type": "code",
      "source": [
        "comunas = {}\n",
        "for i in range(1, 17):\n",
        "    comuna_name = 'comuna' + ' ' + str(i)\n",
        "    comunas[comuna_name] = grouped_dfv[grouped_dfv['codigo_comuna'] == i].reset_index(drop=True).sort_values(by='Fecha')"
      ],
      "metadata": {
        "collapsed": true,
        "id": "C5WVLOWwOob0"
      },
      "execution_count": null,
      "outputs": []
    },
    {
      "cell_type": "code",
      "source": [
        "# fig, ax = plt.subplots(figsize=(20, 6))\n",
        "# for i in range(1,17):\n",
        "#     ax.plot(comunas['comuna' + str(i)]['Fecha'], comunas['comuna' + str(i)]['count'],marker = 'o', label = 'Comuna ' + str(i));\n",
        "# ax.legend(loc='upper left')\n",
        "# plt.title('Evolución de los hurtos por comuna en el tiempo', fontdict = {'fontsize':15, 'fontweight':'bold'})\n",
        "# fig.show(warn=False)"
      ],
      "metadata": {
        "collapsed": true,
        "id": "zLZf5amMT7Rs"
      },
      "execution_count": null,
      "outputs": []
    },
    {
      "cell_type": "code",
      "source": [
        "fig, ax = plt.subplots(figsize=(20, 6))\n",
        "ax.plot(comunas['comuna 10']['Fecha'], comunas['comuna 10']['count'],marker = 'o', label = 'Comuna 10');\n",
        "ax.legend(loc='upper left')\n",
        "plt.grid(axis = 'y', color = 'green', linestyle = 'dashed')\n",
        "plt.title('Evolución de los hurtos por comuna en el tiempo', fontdict = {'fontsize':15, 'fontweight':'bold'})\n",
        "fig.show(warn=False)"
      ],
      "metadata": {
        "id": "VlhAxPLUb1WJ"
      },
      "execution_count": null,
      "outputs": []
    },
    {
      "cell_type": "code",
      "source": [
        "fig = go.Figure()\n",
        "fig.add_trace(go.Scatter(x=comunas['comuna 1']['Fecha'], y=comunas['comuna 1']['count'], mode='lines+markers'))\n",
        "fig.update_traces(line=dict(color='#1B676B', width=1),\n",
        "                  marker=dict(size=8, symbol='diamond-wide'))\n",
        "fig.update_layout(\n",
        "    title='Evolución de los hurtos en el tiempo, en la comuna 1', title_font=dict(size=30, color='black',  family=\"Arial Black\"),\n",
        "    yaxis_title='Cantidad de hurtos',\n",
        "    showlegend=False,\n",
        "    width=1500,\n",
        "    height=500,\n",
        "    plot_bgcolor='white'\n",
        ")\n",
        "# Agregar grilla a al eje y\n",
        "fig.update_yaxes(showgrid=True, gridcolor='gray')\n",
        "# Dar fotomato al eje x\n",
        "fig.update_xaxes(\n",
        "    dtick=\"M6\",\n",
        "    tickformat=\"%b\\n%Y\",\n",
        "    ticklabelmode=\"period\")\n",
        "\n",
        "fig.show()"
      ],
      "metadata": {
        "id": "uhezbM79Ant1"
      },
      "execution_count": null,
      "outputs": []
    },
    {
      "cell_type": "code",
      "source": [
        "conteo = df_hurto['nombre_comuna'].value_counts()\n",
        "conteo"
      ],
      "metadata": {
        "id": "LovKk8uNBZal"
      },
      "execution_count": null,
      "outputs": []
    },
    {
      "cell_type": "code",
      "source": [
        "contcam =df_cam['comuna'].value_counts()\n",
        "contcam"
      ],
      "metadata": {
        "id": "04eSKHeOBszf"
      },
      "execution_count": null,
      "outputs": []
    },
    {
      "cell_type": "markdown",
      "source": [
        "#### Graficos individuales de las 4 comunas con mas camaras"
      ],
      "metadata": {
        "id": "Ik7GCc2hYLpC"
      }
    },
    {
      "cell_type": "code",
      "source": [
        "comunas_top4 = ['comuna 14', 'comuna 10', 'comuna 5', 'comuna 15']\n",
        "\n",
        "# Graficar las comunas\n",
        "for i in comunas_top4:\n",
        "    fig = go.Figure()\n",
        "    fig.add_trace(go.Scatter(x=comunas[i]['Fecha'], y=comunas[i]['count'], mode='lines+markers'))\n",
        "    fig.update_traces(line=dict(color='#1B676B', width=1),\n",
        "                      marker=dict(size=8, symbol='diamond-wide'))\n",
        "    fig.update_layout(\n",
        "        title=f'Evolución de los hurtos en el tiempo, en la {i}', title_font=dict(size=30, color='black',  family=\"Arial Black\"),\n",
        "        yaxis_title='Cantidad de hurtos',\n",
        "        showlegend=False,\n",
        "        width=1500,\n",
        "        height=500,\n",
        "        plot_bgcolor='white'\n",
        "    )\n",
        "    # Agregar grilla a al eje y\n",
        "    fig.update_yaxes(showgrid=True, gridcolor='gray')\n",
        "    # Dar fotomato al eje x\n",
        "    fig.update_xaxes(\n",
        "        dtick=\"M6\",\n",
        "        tickformat=\"%b\\n%Y\",\n",
        "        ticklabelmode=\"period\")\n",
        "\n",
        "    fig.show()"
      ],
      "metadata": {
        "id": "xN00ArVhIKrI"
      },
      "execution_count": null,
      "outputs": []
    },
    {
      "cell_type": "markdown",
      "source": [
        "#### Graficos agrupados de las 4 comunas con mas camaras"
      ],
      "metadata": {
        "id": "c-wFxQ9FYl3i"
      }
    },
    {
      "cell_type": "code",
      "source": [
        "comunas_top4 = ['comuna 14', 'comuna 10', 'comuna 5', 'comuna 15']\n",
        "\n",
        "# Definir colores y marcadores\n",
        "colors = ['#1B676B', '#519548', '#88C425', '#BEF202']\n",
        "markers = ['diamond-wide', 'circle', 'square', 'triangle-up']\n",
        "\n",
        "# Crear figura\n",
        "fig = go.Figure()\n",
        "\n",
        "# Agregar trazas para cada comuna\n",
        "for i, comuna in enumerate(comunas_top4):\n",
        "    fig.add_trace(go.Scatter(x=comunas[comuna]['Fecha'], y=comunas[comuna]['count'],\n",
        "                             mode='lines+markers',\n",
        "                             line=dict(color=colors[i], width=1),\n",
        "                             marker=dict(size=8, symbol=markers[i]),\n",
        "                             name=comuna\n",
        "                             ))  # Asignar nombre a la traza\n",
        "\n",
        "# Configurar layout\n",
        "fig.update_layout(\n",
        "    title='Evolución de los hurtos en el tiempo, en las comunas con mas camaras del SIMM',\n",
        "    title_font=dict(size=30, color='black',  family=\"Arial Black\"),\n",
        "    yaxis_title='Cantidad de hurtos',\n",
        "    showlegend=True,\n",
        "    width=1500,\n",
        "    height=500,\n",
        "    plot_bgcolor='white'\n",
        ")\n",
        "\n",
        "# Agregar grilla a al eje y\n",
        "fig.update_yaxes(showgrid=True, gridcolor='gray')\n",
        "# Dar formato al eje x\n",
        "fig.update_xaxes(\n",
        "    dtick=\"M6\",\n",
        "    tickformat=\"%b\\n%Y\",\n",
        "    ticklabelmode=\"period\")\n",
        "\n",
        "fig.show()"
      ],
      "metadata": {
        "id": "zre1wK44Q6dZ"
      },
      "execution_count": null,
      "outputs": []
    },
    {
      "cell_type": "markdown",
      "source": [
        "#### Graficos agrupados de forma individual de las 4 comunas con mas camaras"
      ],
      "metadata": {
        "id": "K1_vDJXAYo8N"
      }
    },
    {
      "cell_type": "code",
      "source": [
        "from plotly.subplots import make_subplots\n",
        "fig = make_subplots(\n",
        "    rows=2, cols=2,\n",
        "    specs=[[{\"type\": \"xy\"}, {\"type\": \"xy\"}],\n",
        "           [{\"type\": \"xy\"}, {\"type\": \"xy\"}]],\n",
        ")\n",
        "\n",
        "fig.add_trace(go.Scatter(x=comunas['comuna 14']['Fecha'], y=comunas['comuna 14']['count'],\n",
        "                         mode='lines+markers',\n",
        "                         line=dict(color='#1B676B', width=1),\n",
        "                         marker=dict(size=8, symbol='diamond'),\n",
        "                         name='El Poblado'),\n",
        "              row=1, col=1)\n",
        "fig.add_trace(go.Scatter(x=comunas['comuna 10']['Fecha'], y=comunas['comuna 10']['count'],\n",
        "                         mode='lines+markers',\n",
        "                         line=dict(color='#519548', width=1),\n",
        "                         marker=dict(size=8, symbol='diamond'),\n",
        "                         name = 'Candelaria'),\n",
        "              row=1, col=2)\n",
        "fig.add_trace(go.Scatter(x=comunas['comuna 5']['Fecha'], y=comunas['comuna 5']['count'],\n",
        "                         mode='lines+markers',\n",
        "                         line=dict(color='#88C425', width=1),\n",
        "                         marker=dict(size=8, symbol='diamond'),\n",
        "                         name = 'Castilla'),\n",
        "              row=2, col=1)\n",
        "fig.add_trace(go.Scatter(x=comunas['comuna 15']['Fecha'], y=comunas['comuna 15']['count'],\n",
        "                         mode='lines+markers',\n",
        "                         line=dict(color='#BEF202', width=1),\n",
        "                         marker=dict(size=8, symbol='diamond'),\n",
        "                         name = 'Guayabal'),\n",
        "              row=2, col=2)\n",
        "\n",
        "fig.update_layout(\n",
        "    title='Evolución de los hurtos en el tiempo, en las comunas con mas camaras del SIMM',\n",
        "    title_font=dict(size=30, color='black',  family=\"Arial Black\"),\n",
        "    title_x=0.5,\n",
        "    height=900,\n",
        "    showlegend=True,\n",
        "    plot_bgcolor='white')\n",
        "\n",
        "fig.update_yaxes(title_text=\"Cantidad de hurtos\", row=1, col=1)\n",
        "fig.update_yaxes(title_text=\"Cantidad de hurtos\", row=1, col=2)\n",
        "fig.update_yaxes(title_text=\"Cantidad de hurtos\", row=2, col=1)\n",
        "fig.update_yaxes(title_text=\"Cantidad de hurtos\", row=2, col=2)\n",
        "\n",
        "fig.show()"
      ],
      "metadata": {
        "id": "2PqGBuxzTI1X"
      },
      "execution_count": null,
      "outputs": []
    },
    {
      "cell_type": "markdown",
      "source": [
        "___\n",
        "### Mapa de calor"
      ],
      "metadata": {
        "id": "nTzgjRIL-90w"
      }
    },
    {
      "cell_type": "markdown",
      "source": [
        "Cantidad de hurtos segun la hora y el dia de la semana"
      ],
      "metadata": {
        "id": "ZKtyBAT3C6Jp"
      }
    },
    {
      "cell_type": "code",
      "source": [
        "# Crear una columna para el día de la semana a partir de la fecha\n",
        "hmap = df_hurto.groupby(['Año', 'Mes', 'Día', 'Hora']).size().reset_index(name='count')\n",
        "\n",
        "hmap['Mes'] = hmap['Mes'].map({\n",
        "    'Ene': 1, 'Feb': 2, 'Mar': 3, 'Abr': 4,\n",
        "    'May': 5, 'Jun': 6, 'Jul': 7, 'Ago': 8,\n",
        "    'Sep': 9, 'Oct': 10, 'Nov': 11, 'Dic': 12\n",
        "})\n",
        "\n",
        "hmap['Fecha'] = pd.to_datetime(hmap.apply(lambda row: f\"{row['Año']}-{row['Mes']}-{row['Día']}\", axis=1))\n",
        "hmap['Día_de_la_semana'] = hmap['Fecha'].dt.day_name()\n",
        "\n",
        "# Crear rangos de una hora\n",
        "hmap['Hora_rango'] = pd.cut(hmap['Hora'], bins=range(0, 2500, 100), right=False, labels=[f'{str(i).zfill(4)}-{str(i+100).zfill(4)}' for i in range(0, 2400, 100)])\n",
        "\n",
        "# Crear una tabla dinámica con los días de la semana como filas y las horas como columnas\n",
        "heatmap_data = hmap.pivot_table(index='Día_de_la_semana', columns='Hora_rango', aggfunc='size', fill_value=0)\n",
        "\n",
        "# Ordenar los días de la semana\n",
        "ordered_days = ['Monday', 'Tuesday', 'Wednesday', 'Thursday', 'Friday', 'Saturday', 'Sunday']\n",
        "hmap['Mes'] = hmap['Mes'].map({\n",
        "    'Monday':'Lunes', 'Tuesday':'Martes',\n",
        "    'Wednesday':'Miercoles', 'Thursday':'Jueves',\n",
        "    'Friday':'Viernes', 'Saturday':'Sabado',\n",
        "    'Sunday':'Domingo'\n",
        "})\n",
        "heatmap_data = heatmap_data.reindex(ordered_days)\n",
        "\n",
        "fig = px.imshow(heatmap_data,\n",
        "               color_continuous_scale='Reds',\n",
        "               title='Número de hurtos por hora y día de la semana',\n",
        "               labels=dict(x=\"Hora del día\", y=\"Día de la semana\"),\n",
        "               text_auto=True)\n",
        "fig.show()"
      ],
      "metadata": {
        "id": "bU97BmnF48lY"
      },
      "execution_count": null,
      "outputs": []
    },
    {
      "cell_type": "markdown",
      "source": [
        "---\n",
        "### Diagrama de barras"
      ],
      "metadata": {
        "id": "t0MN6Uj22V-L"
      }
    },
    {
      "cell_type": "markdown",
      "source": [
        "#### Cantidad vs dia de la semana"
      ],
      "metadata": {
        "id": "l9feS5rpq7hM"
      }
    },
    {
      "cell_type": "code",
      "source": [
        "diagra = df_hurto.groupby(['Año', 'Mes', 'Día']).size().reset_index(name='count')\n",
        "\n",
        "diagra['Mes'] = diagra['Mes'].map({\n",
        "    'Ene': 1, 'Feb': 2, 'Mar': 3, 'Abr': 4,\n",
        "    'May': 5, 'Jun': 6, 'Jul': 7, 'Ago': 8,\n",
        "    'Sep': 9, 'Oct': 10, 'Nov': 11, 'Dic': 12\n",
        "})\n",
        "\n",
        "diagra['Fecha'] = pd.to_datetime(diagra.apply(lambda row: f\"{row['Año']}-{row['Mes']}-{row['Día']}\", axis=1))\n",
        "diagra = diagra.drop(columns=['Año', 'Mes', 'Día']).reset_index(drop=True)\n",
        "diagra = diagra.sort_values(by='Fecha')\n",
        "\n",
        "diagra['Día'] = diagra['Fecha'].dt.day_name()\n",
        "diagramadias = diagra.groupby('Día')['count'].sum().reset_index()\n",
        "\n",
        "diagramadias['Día'] = diagramadias['Día'].map({\n",
        "    'Monday': 'Lunes', 'Tuesday': 'Martes', 'Wednesday': 'Miércoles',\n",
        "    'Thursday': 'Jueves', 'Friday': 'Viernes', 'Saturday': 'Sábado',\n",
        "    'Sunday': 'Domingo'\n",
        "})\n",
        "diagramadias[\"Día\"] = pd.Categorical(diagramadias[\"Día\"], categories=[\n",
        "    'Lunes', 'Martes', 'Miércoles', 'Jueves', 'Viernes', 'Sábado', 'Domingo'\n",
        "], ordered=True)\n",
        "diagramadias = diagramadias.sort_values(by='Día')\n",
        "diagramadias = diagramadias.reset_index(drop=True)\n",
        "\n",
        "diagramadias\n"
      ],
      "metadata": {
        "id": "U_wQiB1NmkRO"
      },
      "execution_count": null,
      "outputs": []
    },
    {
      "cell_type": "code",
      "source": [
        "# Definir una lista de colores para cada barra\n",
        "colores = ['#00ff7f', '#34ff8d', '#62ff95', '#8cffaa', '#adffc0', '#cbffd5', '#e5ffea']\n",
        "\n",
        "fig = px.bar(diagramadias, x='Día', y='count', color='Día', color_discrete_sequence=colores)\n",
        "fig.show()"
      ],
      "metadata": {
        "id": "02X1y8IhsM7V"
      },
      "execution_count": null,
      "outputs": []
    },
    {
      "cell_type": "markdown",
      "source": [
        "#### Cantidad vs hombre-mujer"
      ],
      "metadata": {
        "id": "3crpCbKvsr-b"
      }
    },
    {
      "cell_type": "markdown",
      "source": [
        "Diagrama de barras agrupadas que muestre según el genero la cantidad de hurtos que ocurren cada día de la semana, buscando una correlación temporal con los días de la semana para inducir el diagrama de hurtos por fin de semana\n"
      ],
      "metadata": {
        "id": "XKDO37dW2apD"
      }
    },
    {
      "cell_type": "code",
      "source": [
        "diagrami = df_hurto.groupby(['Año', 'Mes', 'Día', 'sexo']).size().reset_index(name='count')\n",
        "\n",
        "diagrami['Mes'] = diagrami['Mes'].map({\n",
        "    'Ene': 1, 'Feb': 2, 'Mar': 3, 'Abr': 4,\n",
        "    'May': 5, 'Jun': 6, 'Jul': 7, 'Ago': 8,\n",
        "    'Sep': 9, 'Oct': 10, 'Nov': 11, 'Dic': 12\n",
        "})\n",
        "\n",
        "diagrami['Fecha'] = pd.to_datetime(diagrami.apply(lambda row: f\"{row['Año']}-{row['Mes']}-{row['Día']}\", axis=1))\n",
        "diagrami = diagrami.drop(columns=['Año', 'Mes', 'Día']).reset_index(drop=True)\n",
        "diagrami = diagrami.sort_values(by='Fecha')\n",
        "\n",
        "diagrami['Día'] = diagrami['Fecha'].dt.day_name()\n",
        "diagrami"
      ],
      "metadata": {
        "id": "TKvNQ545sqcx"
      },
      "execution_count": null,
      "outputs": []
    },
    {
      "cell_type": "code",
      "source": [
        "diagramasexo = diagrami.groupby(['Día', \"sexo\"])[\"count\"].sum().unstack().reset_index()\n",
        "diagramasexo = diagramasexo[['Día', 'Hombre', 'Mujer']]\n",
        "diagramasexo['Día'] = diagramasexo['Día'].map({\n",
        "    'Monday': 'Lunes', 'Tuesday': 'Martes', 'Wednesday': 'Miércoles',\n",
        "    'Thursday': 'Jueves', 'Friday': 'Viernes', 'Saturday': 'Sábado',\n",
        "    'Sunday': 'Domingo'\n",
        "})\n",
        "diagramasexo[\"Día\"] = pd.Categorical(diagramasexo[\"Día\"], categories=[\n",
        "    'Lunes', 'Martes', 'Miércoles', 'Jueves', 'Viernes', 'Sábado', 'Domingo'\n",
        "], ordered=True)\n",
        "diagramasexo = diagramasexo.sort_values(by='Día')\n",
        "diagramasexo = diagramasexo.reset_index(drop=True)\n",
        "diagramasexo"
      ],
      "metadata": {
        "id": "JzdIUSABwtPD"
      },
      "execution_count": null,
      "outputs": []
    },
    {
      "cell_type": "code",
      "source": [
        "colorM = ['#d851d6', '#e45ce1', '#ef67ec', '#f484f0', '#f89ef3', '#fbb7f6', '#fdd0f9']\n",
        "colorH = ['#baa8ff', '#9f8dff', '#8072ff', '#5757ff', '#4d50f7', '#414aef', '#3543e7']\n",
        "\n",
        "fig = go.Figure()\n",
        "\n",
        "fig.add_trace(go.Bar(name='Mujer', x=diagramasexo['Día'], y=diagramasexo['Mujer'], marker_color=colorM))\n",
        "fig.add_trace(go.Bar(name='Hombre', x=diagramasexo['Día'], y=diagramasexo['Hombre'], marker_color=colorH))\n",
        "\n",
        "fig.show()"
      ],
      "metadata": {
        "id": "lemDyrC75Qho"
      },
      "execution_count": null,
      "outputs": []
    },
    {
      "cell_type": "markdown",
      "source": [
        "#### Cantidad por día de la semana según comuna"
      ],
      "metadata": {
        "id": "eQAPcWUmlMsZ"
      }
    },
    {
      "cell_type": "code",
      "source": [
        "diagrami = df_hurto.groupby(['Año', 'Mes', 'Día', 'nombre_comuna']).size().reset_index(name='count')\n",
        "\n",
        "diagrami['Mes'] = diagrami['Mes'].map({\n",
        "    'Ene': 1, 'Feb': 2, 'Mar': 3, 'Abr': 4,\n",
        "    'May': 5, 'Jun': 6, 'Jul': 7, 'Ago': 8,\n",
        "    'Sep': 9, 'Oct': 10, 'Nov': 11, 'Dic': 12\n",
        "})\n",
        "\n",
        "diagrami['Fecha'] = pd.to_datetime(diagrami.apply(lambda row: f\"{row['Año']}-{row['Mes']}-{row['Día']}\", axis=1))\n",
        "diagrami = diagrami.drop(columns=['Año', 'Mes', 'Día']).reset_index(drop=True)\n",
        "diagrami = diagrami.sort_values(by='Fecha')\n",
        "\n",
        "diagrami['Día'] = diagrami['Fecha'].dt.day_name()\n",
        "diagrami"
      ],
      "metadata": {
        "id": "xitwnnZU6kye"
      },
      "execution_count": null,
      "outputs": []
    },
    {
      "cell_type": "code",
      "source": [
        "diagramacomuna = diagrami.groupby(['Día', 'nombre_comuna'])['count'].sum().unstack().reset_index()\n",
        "diagramacomuna"
      ],
      "metadata": {
        "id": "j7Y2tX4f63mS"
      },
      "execution_count": null,
      "outputs": []
    },
    {
      "cell_type": "markdown",
      "source": [
        "#### Cantidad vs hora"
      ],
      "metadata": {
        "id": "LdO6b6wbUIu9"
      }
    },
    {
      "cell_type": "code",
      "source": [
        "# Crear rangos de una hora\n",
        "rangos= pd.cut(df_hurto['Hora'], range(0, 2500, 100))\n",
        "# Contar hurtos por rango de hora\n",
        "hurtos_por_rango = rangos.value_counts()\n",
        "# Ordenar hurtos por rango de hora\n",
        "hurtos_por_rango = hurtos_por_rango.sort_index()\n",
        "hurtos_por_rango"
      ],
      "metadata": {
        "id": "d51IAjXRUKcr"
      },
      "execution_count": null,
      "outputs": []
    },
    {
      "cell_type": "code",
      "source": [
        "s = pd.DataFrame(hurtos_por_rango)\n",
        "s = s.reset_index().rename(columns={'index': 'indices', 'count': 'Hurtos'})"
      ],
      "metadata": {
        "id": "SFLa_TuuahHW"
      },
      "execution_count": null,
      "outputs": []
    },
    {
      "cell_type": "code",
      "source": [
        "s.plot(kind='bar', x='Hora', y='Hurtos', color= 'g')\n",
        "plt.title('Hurtos por rango horario')\n",
        "plt.xlabel('Rango horario')\n",
        "plt.ylabel('Cantidad de hurtos')\n",
        "plt.show()"
      ],
      "metadata": {
        "id": "zTcyfdB3hUDe"
      },
      "execution_count": null,
      "outputs": []
    },
    {
      "cell_type": "code",
      "source": [
        "s['Hora'] = s['Hora'].astype(str)\n",
        "\n",
        "fig = px.bar(s, x='Hora', y='Hurtos', color_discrete_sequence=['#00FF7F'])\n",
        "fig.update_layout(title='Hurtos por rango horario',\n",
        "                  xaxis_title='Rango horario',\n",
        "                  yaxis_title='Cantidad de hurtos',\n",
        "                  plot_bgcolor='white')\n",
        "# Agregar grilla a los ejes\n",
        "fig.update_yaxes(showgrid=True, gridcolor='gray')\n",
        "fig.show()"
      ],
      "metadata": {
        "id": "2ojyN7toUGA5"
      },
      "execution_count": null,
      "outputs": []
    },
    {
      "cell_type": "markdown",
      "source": [
        "#### Modalidad vs comuna"
      ],
      "metadata": {
        "id": "5Gjrrb8ff4L0"
      }
    },
    {
      "cell_type": "code",
      "source": [
        "df_hurto['modalidad'].unique()"
      ],
      "metadata": {
        "id": "2OvTFpcBlE5c",
        "collapsed": true
      },
      "execution_count": null,
      "outputs": []
    },
    {
      "cell_type": "code",
      "source": [
        "barras = df_hurto.groupby(['codigo_comuna', 'modalidad']).size().reset_index(name='count')\n",
        "barras"
      ],
      "metadata": {
        "id": "yQC0rUdIf1SX",
        "collapsed": true
      },
      "execution_count": null,
      "outputs": []
    },
    {
      "cell_type": "code",
      "source": [
        "df_rec1"
      ],
      "metadata": {
        "id": "H8qr7x2N3pVH"
      },
      "execution_count": null,
      "outputs": []
    },
    {
      "cell_type": "code",
      "source": [
        "import pandas as pd\n",
        "\n",
        "df_rec1\n",
        "\n",
        "# Agrupar por 'año' y 'codigo_comuna', y sumar la columna 'cantidad'\n",
        "df_grouped = df_rec1.groupby(['año', 'codigo_comuna']).sum().reset_index()\n",
        "\n",
        "print(df_grouped)"
      ],
      "metadata": {
        "id": "9FveA7mN6Kw1"
      },
      "execution_count": null,
      "outputs": []
    },
    {
      "cell_type": "code",
      "source": [
        "def agrupar_por_año_y_comuna(df_rec1):\n",
        "    # Agrupar por 'año' y 'codigo_comuna', y sumar la columna 'cantidad'\n",
        "    df_grouped = df_rec1.groupby(['año', 'codigo_comuna']).sum().reset_index()\n",
        "    return df_grouped"
      ],
      "metadata": {
        "id": "hqFq4avODZ3v"
      },
      "execution_count": null,
      "outputs": []
    },
    {
      "cell_type": "code",
      "source": [
        "agrupar_por_año_y_comuna(df_rec1)"
      ],
      "metadata": {
        "id": "pi8_5t6NDgho"
      },
      "execution_count": null,
      "outputs": []
    },
    {
      "cell_type": "code",
      "source": [
        "# import pandas as pd\n",
        "\n",
        "# # Crear un dataframe de ejemplo\n",
        "\n",
        "# df_rec1\n",
        "\n",
        "# def filtrar_y_agrupas(df, codigo_comuna=None, año=None):\n",
        "#     # Filtrar por codigo_comuna si se especifica\n",
        "#     if codigo_comuna is not None:\n",
        "#         df = df[df['codigo_comuna'] == codigo_comuna]\n",
        "\n",
        "#     # Filtrar por año si se especifica\n",
        "#     if año is not None:\n",
        "#         df = df[df['año'] == año]\n",
        "\n",
        "#     # Agrupar por 'año' y 'codigo_comuna', y sumar la columna 'cantidad'\n",
        "#     df_grouped = df.groupby(['año', 'codigo_comuna']).sum().reset_index()\n",
        "\n",
        "#     return df_grouped\n",
        "\n",
        "# # Usar la función para obtener datos filtrados y agrupados\n",
        "# # Ejemplo: Filtrar por codigo_comuna = 1 y año = 2022\n",
        "# result = filtrar_y_agrupas(df_rec1, 11, 2020)\n",
        "# print(result)\n"
      ],
      "metadata": {
        "id": "4aHqYMix-Vf-"
      },
      "execution_count": null,
      "outputs": []
    },
    {
      "cell_type": "code",
      "source": [
        "df_rec2.head()"
      ],
      "metadata": {
        "id": "0gxlSRcfa7GI"
      },
      "execution_count": null,
      "outputs": []
    },
    {
      "cell_type": "code",
      "source": [
        "df_rec3.head()"
      ],
      "metadata": {
        "id": "OI0l085C3LO1"
      },
      "execution_count": null,
      "outputs": []
    },
    {
      "cell_type": "markdown",
      "source": [
        "#### Hurtos por estrato"
      ],
      "metadata": {
        "id": "e-eRg8cd52Kv"
      }
    },
    {
      "cell_type": "code",
      "source": [
        "df_estratos_comuna = df_estratos_comuna.rename(columns={'Nombre Comuna': 'nombre_comuna'})\n",
        "df_estratos_comuna['nombre_comuna'] = df_estratos_comuna['nombre_comuna'].replace({'MANRRIQUE': 'MANRIQUE'})"
      ],
      "metadata": {
        "id": "CM6PgzI05-jl"
      },
      "execution_count": null,
      "outputs": []
    },
    {
      "cell_type": "code",
      "source": [
        "# Realizar la unión de ambos DataFrames según la comuna\n",
        "df_hurto_estratos_comunas = df_hurto[['codigo_comuna', 'nombre_comuna']].copy()\n",
        "df_hurto_estratos_comunas = pd.merge(df_hurto_estratos_comunas, df_estratos_comuna, on='nombre_comuna', how='left')\n",
        "df_hurto_estratos_comunas = df_hurto_estratos_comunas.drop(columns='Comuna')\n",
        "df_hurto_estratos_comunas"
      ],
      "metadata": {
        "id": "R4DKpjrT6E2J"
      },
      "execution_count": null,
      "outputs": []
    },
    {
      "cell_type": "code",
      "source": [
        "hurtos_por_estrato = df_hurto_estratos_comunas['Estrato'].value_counts().reset_index().rename(columns={'index': 'Estrato', 'count': 'count'})\n",
        "hurtos_por_estrato['Estrato'] = hurtos_por_estrato['Estrato'].replace({2:'Estrato 2', 3:'Estrato 3', 4:'Estrato 4',\n",
        "                                                                       5:'Estrato 5', 6:'Estrato 6'})\n",
        "hurtos_por_estrato"
      ],
      "metadata": {
        "id": "pB42tUdA6P0N"
      },
      "execution_count": null,
      "outputs": []
    },
    {
      "cell_type": "code",
      "source": [
        "colores = ['#1B676B', '#519548', '#88C425', '#BEF202', '#ADFFC0']\n",
        "\n",
        "fig = px.bar(hurtos_por_estrato, x='Estrato', y='count', color='Estrato', color_discrete_sequence=colores)\n",
        "fig.show()"
      ],
      "metadata": {
        "id": "0Nra0u4s60Ex"
      },
      "execution_count": null,
      "outputs": []
    },
    {
      "cell_type": "markdown",
      "source": [
        "### Grafico de radar"
      ],
      "metadata": {
        "id": "9AWjpeqBSs_e"
      }
    },
    {
      "cell_type": "code",
      "source": [
        "# Contar cuántas veces se repiten los valores únicos en la columna 'codigo_comuna'\n",
        "conteo_comunas = df_hurto['codigo_comuna'].value_counts().reset_index()\n",
        "# Renombrar las columnas del nuevo DataFrame\n",
        "conteo_comunas.columns = ['codigo_comuna', 'hurtos']\n",
        "# Fusionar conteo_comunas y df_rec21 por la columna 'codigo_comuna'\n",
        "spider = pd.merge(conteo_comunas, df_rec2, on='codigo_comuna')\n",
        "# Ordenear de forma ascendente segun el código de la comuna\n",
        "spider = spider.sort_values(by='codigo_comuna').reset_index(drop=True)\n",
        "# Modificar los valores de la columna codigo_comuna\n",
        "spider['codigo_comuna'] = 'Com. ' + spider['codigo_comuna'].astype(str)\n",
        "spider['Relación'] = spider['cantidad_recuperaciones']/spider['hurtos']\n",
        "\n",
        "spider = spider.rename(columns={'hurtos': 'Hurto', 'cantidad_recuperaciones': 'Recuperaciones'})\n",
        "\n",
        "spider"
      ],
      "metadata": {
        "id": "Yrx5R_E3C6hm"
      },
      "execution_count": null,
      "outputs": []
    },
    {
      "cell_type": "code",
      "source": [
        "fig = go.Figure()\n",
        "\n",
        "fig.add_trace(\n",
        "    go.Scatterpolar(\n",
        "        r=spider['Hurto'],\n",
        "        theta=spider['codigo_comuna'],\n",
        "        fill='toself',\n",
        "        name='Hurtos',\n",
        "        marker=dict(color='#8cff57')\n",
        "    )\n",
        ")\n",
        "fig.add_trace(\n",
        "    go.Scatterpolar(\n",
        "        r=spider['Recuperaciones'],\n",
        "        theta=spider['codigo_comuna'],\n",
        "        fill='toself',\n",
        "        name='Recuperaciones',\n",
        "        marker=dict(color='#f680e6')\n",
        "    )\n",
        ")\n",
        "\n",
        "fig.update_layout(\n",
        "    polar=dict(\n",
        "        angularaxis=dict(\n",
        "            tickmode='array',\n",
        "            tickvals=spider['codigo_comuna'],\n",
        "            ticktext=spider['nombre_comuna']\n",
        "        )\n",
        "    )\n",
        ")\n",
        "\n",
        "fig.show()"
      ],
      "metadata": {
        "id": "Yars6QSiBmu1"
      },
      "execution_count": null,
      "outputs": []
    },
    {
      "cell_type": "markdown",
      "source": [
        "### Mapa relación hurtos-comunas"
      ],
      "metadata": {
        "id": "iq5bcw_FGCri"
      }
    },
    {
      "cell_type": "code",
      "source": [
        "df_combinado = df_hurto[['latitud', 'longitud', 'nombre_comuna']].copy()\n",
        "df_combinado = pd.merge(df_combinado, df_estratos_comuna, on='nombre_comuna', how='left')\n",
        "df_combinado = df_combinado.drop(columns='Comuna')\n",
        "df_combinado.dropna(subset=['latitud', 'longitud'], inplace=True)\n",
        "df_combinado"
      ],
      "metadata": {
        "id": "AGO2Ld_jGIS-"
      },
      "execution_count": null,
      "outputs": []
    },
    {
      "cell_type": "code",
      "source": [
        "#coordenadas promedio de las comunas para el mapa de hurtos y recuperaciones\n",
        "promedio_coords = df_combinado.groupby('nombre_comuna').mean().reset_index()\n",
        "cant_hurtos = df_combinado['nombre_comuna'].value_counts().reset_index()\n",
        "cant_hurtos.columns = ['nombre_comuna', 'cantidad_hurtos']\n",
        "promedio_coords = promedio_coords.merge(cant_hurtos, on='nombre_comuna', how='left')\n",
        "promedio_coords['Estrato'] = promedio_coords['Estrato'].replace({2.0:'Estrato 2', 3.0:'Estrato 3', 4.0:'Estrato 4',\n",
        "                                                                  5.0:'Estrato 5', 6.0:'Estrato 6'})\n",
        "promedio_coords"
      ],
      "metadata": {
        "id": "FyCO1aE6E5L8"
      },
      "execution_count": null,
      "outputs": []
    },
    {
      "cell_type": "code",
      "source": [
        "# Crear el mapa interactivo utilizando Plotly Express\n",
        "fig = px.scatter_mapbox(promedio_coords, lat='latitud', lon='longitud', hover_name='nombre_comuna',\n",
        "                        color='Estrato', size='cantidad_hurtos',\n",
        "                        color_continuous_scale=px.colors.sequential.Viridis,\n",
        "                        size_max=50, zoom=10)\n",
        "\n",
        "# Actualizar el estilo del mapa\n",
        "fig.update_layout(mapbox_style='open-street-map')\n",
        "\n",
        "# Mostrar el mapa\n",
        "fig.show()"
      ],
      "metadata": {
        "id": "AeLxxTOuGMsc",
        "collapsed": true
      },
      "execution_count": null,
      "outputs": []
    },
    {
      "cell_type": "markdown",
      "source": [
        "### Conteo combinado de hurtos y cámaras por comuna con diferentes colores"
      ],
      "metadata": {
        "id": "QAMjp3KYH9XG"
      }
    },
    {
      "cell_type": "code",
      "source": [
        "hurtos_por_comuna = df_hurto['nombre_comuna'].value_counts().reset_index().rename(columns={'index': 'comuna', 'count': 'count'})\n",
        "df_cam = df_cam.rename(columns={'comuna': 'nombre_comuna'})\n",
        "camaras_por_comuna = df_cam['nombre_comuna'].value_counts().reset_index().rename(columns={'index': 'comuna', 'count': 'count'})"
      ],
      "metadata": {
        "id": "fU5Qc81rLvLZ"
      },
      "execution_count": null,
      "outputs": []
    },
    {
      "cell_type": "code",
      "source": [
        "#DataFrames\n",
        "hurtos_por_comuna\n",
        "camaras_por_comuna\n",
        "\n",
        "# Acceder a columnas específicas\n",
        "nombres_por_comuna = hurtos_por_comuna['nombre_comuna']\n",
        "conteos_por_comuna = hurtos_por_comuna['count']\n",
        "\n",
        "nombres_por_comuna = camaras_por_comuna['nombre_comuna']\n",
        "conteos_por_comuna = camaras_por_comuna['count']\n",
        "\n",
        "# Combinar los DataFrames\n",
        "combined_df = pd.concat([hurtos_por_comuna, camaras_por_comuna], ignore_index=True)\n",
        "\n",
        "# Identificar los nombres comunes y únicos\n",
        "common_names = set(hurtos_por_comuna['nombre_comuna']).intersection(set(camaras_por_comuna['nombre_comuna']))\n",
        "unique_names = set(combined_df['nombre_comuna']) - common_names\n",
        "\n",
        "# Asignar colores\n",
        "combined_df['color'] = combined_df['nombre_comuna'].apply(lambda x: '#008B8B' if x in common_names else '#7FFFD4')\n",
        "\n",
        "# Crear el gráfico de barras\n",
        "plt.figure(figsize=(16, 6))\n",
        "bars = plt.bar(combined_df['nombre_comuna'], combined_df['count'], color=combined_df['color'])\n",
        "\n",
        "# Crear los parches para la leyenda\n",
        "legend_elements = [Patch(facecolor='#008B8B', label='Comunas con cámaras'),\n",
        "                   Patch(facecolor='#7FFFD4', label='Comunas sin cámaras')]\n",
        "\n",
        "# Girar los nombres del eje x\n",
        "plt.xticks(rotation=45, ha='right')\n",
        "\n",
        "# Añadir la leyenda\n",
        "plt.legend(handles=legend_elements, loc='upper right')\n",
        "plt.xlabel('Nombre Comuna')\n",
        "plt.ylabel('Cantidad de hurtos')\n",
        "plt.title('Conteo combinado de hurtos y cámaras por comuna con diferentes colores')\n",
        "plt.show()"
      ],
      "metadata": {
        "id": "fHyr3kJFGPio"
      },
      "execution_count": null,
      "outputs": []
    },
    {
      "cell_type": "markdown",
      "source": [
        "### Mapa cantidad recuperaciones"
      ],
      "metadata": {
        "id": "xXy5ySTXIT6f"
      }
    },
    {
      "cell_type": "code",
      "source": [
        "df_combo = pd.merge(df_rec2[['nombre_comuna', 'cantidad_recuperaciones']], promedio_coords[['nombre_comuna', 'latitud', 'longitud']], on='nombre_comuna')\n",
        "df_combo"
      ],
      "metadata": {
        "id": "1E3fO_ylB3EU",
        "collapsed": true
      },
      "execution_count": null,
      "outputs": []
    },
    {
      "cell_type": "code",
      "source": [
        "# Crear el mapa interactivo utilizando Plotly Express\n",
        "fig = px.scatter_mapbox(df_combo, lat='latitud', lon='longitud', hover_name='nombre_comuna',\n",
        "                        color='nombre_comuna', size='cantidad_recuperaciones',\n",
        "                        color_continuous_scale=px.colors.sequential.Viridis,\n",
        "                        size_max=50, zoom=10)\n",
        "\n",
        "# Actualizar el estilo del mapa\n",
        "fig.update_layout(mapbox_style='open-street-map')\n",
        "\n",
        "# Mostrar el mapa\n",
        "fig.show()"
      ],
      "metadata": {
        "id": "uZFkoeT3v4LJ",
        "collapsed": true
      },
      "execution_count": null,
      "outputs": []
    },
    {
      "cell_type": "markdown",
      "source": [
        "___\n",
        "# **DashBoard**"
      ],
      "metadata": {
        "id": "oBOlgO1GQsTq"
      }
    },
    {
      "cell_type": "markdown",
      "source": [
        "___\n",
        "## Instalación de paquetes"
      ],
      "metadata": {
        "id": "VXXbXzI_Vb4T"
      }
    },
    {
      "cell_type": "code",
      "source": [
        "!pip install -q jupyter-dash\n",
        "!pip install -q dash_bootstrap_templates"
      ],
      "metadata": {
        "id": "XJW8f51pVXVy"
      },
      "execution_count": null,
      "outputs": []
    },
    {
      "cell_type": "markdown",
      "source": [
        "___\n",
        "## Cargue de librerias"
      ],
      "metadata": {
        "id": "3upR1NVEVfAo"
      }
    },
    {
      "cell_type": "code",
      "source": [
        "import dash\n",
        "import dash_table\n",
        "import dash_core_components as dcc\n",
        "import dash_html_components as html\n",
        "import dash_bootstrap_components as dbc\n",
        "from dash.dependencies import Input, Output"
      ],
      "metadata": {
        "id": "cwKahhqmVYLA"
      },
      "execution_count": null,
      "outputs": []
    },
    {
      "cell_type": "markdown",
      "source": [
        "## Código Dash"
      ],
      "metadata": {
        "id": "sohkfS3cI6Ac"
      }
    },
    {
      "cell_type": "code",
      "source": [
        "app = dash.Dash(__name__)\n",
        "\n",
        "# Define el estilo de las pestañas\n",
        "tab_style = {\n",
        "    'borderBottom': '1px solid #5f7060',\n",
        "    'padding': '6px',\n",
        "    'backgroundColor': '#86d99b',  # Color de fondo de las pestañas\n",
        "}\n",
        "\n",
        "# Define el estilo de la pestaña activa\n",
        "tab_selected_style = {\n",
        "    'borderTop': '1px solid #d6d6d6',\n",
        "    'borderBottom': '1px solid #d6d6d6',\n",
        "    'fontWeight': 'bold',\n",
        "    'backgroundColor': '#34b356',  # Color de fondo de la pestaña activa\n",
        "    'color': '#000000'  # Color del texto de la pestaña activa\n",
        "}\n",
        "\n",
        "# Función para la línea de tiempo\n",
        "def linea_tiempo(df):\n",
        "    fig = go.Figure()\n",
        "    fig.add_trace(go.Scatter(x=df['Fecha'], y=df['count'], mode='lines+markers'))\n",
        "    fig.update_traces(line=dict(color='#1B676B', width=1), marker=dict(size=8, symbol='diamond-wide'))\n",
        "    fig.update_layout(\n",
        "        yaxis_title='Cantidad de hurtos', showlegend=False, width=1250, height=400, plot_bgcolor='white')\n",
        "    # Agregar grilla a al eje y\n",
        "    fig.update_yaxes(showgrid=True, gridcolor='gray')\n",
        "    # Dar formato al eje x\n",
        "    fig.update_xaxes(dtick=\"M6\", tickformat=\"%b\\n%Y\", ticklabelmode=\"period\", tickangle=-45, tickfont=dict(size=10, family=\"Arial\"))\n",
        "    return fig\n",
        "\n",
        "# Graficar las comunas\n",
        "def linea_tiempo_com(comunas, comuna):\n",
        "    fig = go.Figure()\n",
        "    fig.add_trace(go.Scatter(x=comunas[comuna]['Fecha'], y=comunas[comuna]['count'], mode='lines+markers'))\n",
        "    fig.update_traces(line=dict(color='#5f9497', width=1), marker=dict(size=8, symbol='diamond-wide'))\n",
        "    fig.update_layout(\n",
        "        title=f'Evolución de los hurtos en el tiempo, en la {comuna}', title_font=dict(size=15, color='black',  family=\"Arial Black\"),\n",
        "        yaxis_title='Cantidad de hurtos', showlegend=False, width=1250, height=400, plot_bgcolor='white')\n",
        "    # Agregar grilla a al eje y\n",
        "    fig.update_yaxes(showgrid=True, gridcolor='gray')\n",
        "    # Dar formato al eje x\n",
        "    fig.update_xaxes(dtick=\"M6\", tickformat=\"%b\\n%Y\", ticklabelmode=\"period\", tickangle=-45, tickfont=dict(size=10, family=\"Arial\"))\n",
        "    return fig\n",
        "\n",
        "dropdown_options = [{'label': k, 'value': k} for k in comunas.keys()]\n",
        "\n",
        "# Grafico de barras, hurtos por dia\n",
        "def bar_plot(df):\n",
        "  colores = ['#00ff7f', '#34ff8d', '#62ff95', '#8cffaa', '#adffc0', '#cbffd5', '#e5ffea']\n",
        "  fig = px.bar(df, x='Día', y='count', color='Día', color_discrete_sequence=colores, labels={'count': 'Cantidad de hurtos'})\n",
        "  return fig\n",
        "\n",
        "# Heatmap\n",
        "import pandas as pd\n",
        "import plotly.express as px\n",
        "\n",
        "def heatmap(df):\n",
        "    # Create a new column for the day of the week based on the date\n",
        "    hmap = df.groupby(['Año', 'Mes', 'Día', 'Hora']).size().reset_index(name='count')\n",
        "    hmap['Mes'] = hmap['Mes'].map({'Ene': 1, 'Feb': 2, 'Mar': 3, 'Abr': 4,'May': 5, 'Jun': 6, 'Jul': 7, 'Ago': 8,'Sep': 9, 'Oct': 10, 'Nov': 11, 'Dic': 12})\n",
        "    hmap['Fecha'] = pd.to_datetime(hmap.apply(lambda row: f\"{row['Año']}-{row['Mes']}-{row['Día']}\", axis=1))\n",
        "    hmap['Día_de_la_semana'] = hmap['Fecha'].dt.day_name()\n",
        "    # Create ranges of one hour\n",
        "    hmap['Hora_rango'] = pd.cut(hmap['Hora'], bins=range(0, 2500, 100), right=False, labels=[f'{str(i).zfill(4)}-{str(i+100).zfill(4)}' for i in range(0, 2400, 100)])\n",
        "    # Create a pivot table with the days of the week as rows and hours as columns\n",
        "    heatmap_data = hmap.pivot_table(index='Día_de_la_semana', columns='Hora_rango', aggfunc='size', fill_value=0)\n",
        "    # Sort the days of the week\n",
        "    ordered_days = ['Monday', 'Tuesday', 'Wednesday', 'Thursday', 'Friday', 'Saturday', 'Sunday']\n",
        "    hmap['Día_de_la_semana'] = hmap['Día_de_la_semana'].map({'Monday':'Lunes','Tuesday':'Martes','Wednesday':'Miercoles','Thursday':'Jueves','Friday':'Viernes','Saturday':'Sabado','Sunday':'Domingo'})\n",
        "    heatmap_data = heatmap_data.reindex(ordered_days)\n",
        "    fig = px.imshow(heatmap_data,\n",
        "                   color_continuous_scale='Greens',labels=dict(x=\"Hora del día\", y=\"Día de la semana\"),text_auto=True)\n",
        "    return fig\n",
        "\n",
        "#barras hurto por estrato\n",
        "def barras_estrato(df):\n",
        "    colores = ['#1B676B', '#519548', '#88C425', '#BEF202', '#ADFFC0']\n",
        "    estrato_orden = ['Estrato 2', 'Estrato 3', 'Estrato 4', 'Estrato 5', 'Estrato 6']\n",
        "    fig = px.bar(hurtos_por_estrato, x='Estrato', y='count', color='Estrato', color_discrete_sequence=colores, labels={'count': 'Cantidad de hurtos'}, category_orders={\"Estrato\": estrato_orden})\n",
        "    return fig\n",
        "\n",
        "# Crear el gráfico de barras utilizando Plotly\n",
        "def crear_grafico_combinado(hurtos_por_comuna, camaras_por_comuna):\n",
        "    combined_df = pd.concat([hurtos_por_comuna, camaras_por_comuna], ignore_index=True)\n",
        "    common_names = set(hurtos_por_comuna['nombre_comuna']).intersection(set(camaras_por_comuna['nombre_comuna']))\n",
        "    combined_df['color'] = combined_df['nombre_comuna'].apply(lambda x: '#7FFFD4' if x in common_names else '#008B8B')\n",
        "\n",
        "    fig = go.Figure()\n",
        "\n",
        "    for color, label in zip(['#7FFFD4', '#008B8B'], ['Comunas con cámaras', 'Comunas sin cámaras']):\n",
        "        df_filtered = combined_df[combined_df['color'] == color]\n",
        "        fig.add_trace(go.Bar(\n",
        "            x=df_filtered['nombre_comuna'],\n",
        "            y=df_filtered['count'],\n",
        "            name=label,\n",
        "            marker_color=color\n",
        "        ))\n",
        "\n",
        "    fig.update_layout(\n",
        "        #title='Conteo combinado de hurtos y cámaras por comuna',\n",
        "        xaxis_title='Nombre Comuna',\n",
        "        yaxis_title='Cantidad de hurtos',\n",
        "        barmode='stack',\n",
        "        legend_title_text='Tipo de Comuna',\n",
        "        xaxis={'categoryorder':'total descending'}\n",
        "    )\n",
        "\n",
        "    return fig\n",
        "\n",
        "def create_spider_plot(spider):\n",
        "    fig = go.Figure()\n",
        "\n",
        "    fig.add_trace(\n",
        "        go.Scatterpolar(\n",
        "            r=spider['Hurto'],\n",
        "            theta=spider['codigo_comuna'],\n",
        "            fill='toself',\n",
        "            name='Hurtos',\n",
        "            marker=dict(color='#88C425')\n",
        "        )\n",
        "    )\n",
        "    fig.add_trace(\n",
        "        go.Scatterpolar(\n",
        "            r=spider['Recuperaciones'],\n",
        "            theta=spider['codigo_comuna'],\n",
        "            fill='toself',\n",
        "            name='Recuperaciones',\n",
        "            marker=dict(color='#1B676B')\n",
        "        )\n",
        "    )\n",
        "\n",
        "    fig.update_layout(\n",
        "        polar=dict(\n",
        "            angularaxis=dict(\n",
        "                tickmode='array',\n",
        "                tickvals=spider['codigo_comuna'],\n",
        "                ticktext=spider['nombre_comuna']\n",
        "            )\n",
        "        )\n",
        "    )\n",
        "\n",
        "    return fig\n",
        "\n",
        "def mapa_estrato(df):\n",
        "    # Definir el orden de los estratos\n",
        "    estrato_orden = ['Estrato 2', 'Estrato 3', 'Estrato 4', 'Estrato 5', 'Estrato 6']\n",
        "\n",
        "    # Asegurarse de que los valores de la columna 'Estrato' sean exactamente iguales a los valores en 'estrato_orden'\n",
        "    df['Estrato'] = df['Estrato'].astype(str)\n",
        "\n",
        "    # Convertir la columna 'Estrato' a categoría con el orden especificado\n",
        "    df['Estrato'] = pd.Categorical(df['Estrato'], categories=estrato_orden, ordered=True)\n",
        "\n",
        "    # Ordenar el DataFrame por la columna 'Estrato'\n",
        "    df = df.sort_values('Estrato')\n",
        "\n",
        "    # Definir los colores específicos para cada estrato\n",
        "    colores = {\n",
        "        'Estrato 2': '#1B676B',\n",
        "        'Estrato 3': '#519548',\n",
        "        'Estrato 4': '#88C425',\n",
        "        'Estrato 5': '#BEF202',\n",
        "        'Estrato 6': '#ADFFC0'\n",
        "    }\n",
        "\n",
        "    fig = px.scatter_mapbox(df, lat='latitud', lon='longitud', hover_name='nombre_comuna',\n",
        "                            color='Estrato', size='cantidad_hurtos',\n",
        "                            color_discrete_map=colores,\n",
        "                            size_max=50, zoom=10)\n",
        "    fig.update_layout(mapbox_style='open-street-map')\n",
        "    return fig\n",
        "\n",
        "def mapa_recuperaciones(df_combo):\n",
        "    # Crear una función para categorizar las cantidades de recuperaciones\n",
        "    def categorizar_recuperaciones(cantidad):\n",
        "        if cantidad < 1500:\n",
        "            return 'Baja recuperación (Menos de 1500)'\n",
        "        elif 1500 <= cantidad < 3000:\n",
        "            return 'Mediana recuperación (Entre 1500 y 3000)'\n",
        "        else:\n",
        "            return 'Alta recuperación (Más de 3000)'\n",
        "\n",
        "    # Aplicar la función a la columna 'cantidad_recuperaciones' para crear la columna 'categoria'\n",
        "    df_combo['Categoría'] = df_combo['cantidad_recuperaciones'].apply(categorizar_recuperaciones)\n",
        "\n",
        "    # Crear el mapa con las categorías de colores\n",
        "    fig = px.scatter_mapbox(df_combo, lat='latitud', lon='longitud', hover_name='nombre_comuna',\n",
        "                            color='Categoría', size='cantidad_recuperaciones',\n",
        "                            color_discrete_map={\n",
        "                                'Baja recuperación (Menos de 1500)': '#1B676B',\n",
        "                                'Mediana recuperación (Entre 1500 y 3000)': '#519548',\n",
        "                                'Alta recuperación (Más de 3000)': '#88C425'\n",
        "                            },\n",
        "                            size_max=50, zoom=10)\n",
        "    fig.update_layout(mapbox_style='open-street-map')\n",
        "    return fig\n",
        "\n",
        "#from plotly.subplots import make_subplots\n",
        "#import plotly.graph_objects as go\n",
        "\n",
        "def crear_grafico_hurtos(comunas):\n",
        "    fig = make_subplots(\n",
        "        rows=2, cols=2,\n",
        "        specs=[[{\"type\": \"xy\"}, {\"type\": \"xy\"}],\n",
        "               [{\"type\": \"xy\"}, {\"type\": \"xy\"}]],\n",
        "    )\n",
        "\n",
        "    fig.add_trace(go.Scatter(x=comunas['comuna 14']['Fecha'], y=comunas['comuna 14']['count'],\n",
        "                             mode='lines+markers',\n",
        "                             line=dict(color='#1B676B', width=1),\n",
        "                             marker=dict(size=5, symbol='diamond'),\n",
        "                             name='El Poblado'),\n",
        "                  row=1, col=1)\n",
        "    fig.add_trace(go.Scatter(x=comunas['comuna 10']['Fecha'], y=comunas['comuna 10']['count'],\n",
        "                             mode='lines+markers',\n",
        "                             line=dict(color='#519548', width=1),\n",
        "                             marker=dict(size=5, symbol='diamond'),\n",
        "                             name='Candelaria'),\n",
        "                  row=1, col=2)\n",
        "    fig.add_trace(go.Scatter(x=comunas['comuna 5']['Fecha'], y=comunas['comuna 5']['count'],\n",
        "                             mode='lines+markers',\n",
        "                             line=dict(color='#88C425', width=1),\n",
        "                             marker=dict(size=5, symbol='diamond'),\n",
        "                             name='Castilla'),\n",
        "                  row=2, col=1)\n",
        "    fig.add_trace(go.Scatter(x=comunas['comuna 15']['Fecha'], y=comunas['comuna 15']['count'],\n",
        "                             mode='lines+markers',\n",
        "                             line=dict(color='#BEF202', width=1),\n",
        "                             marker=dict(size=5, symbol='diamond'),\n",
        "                             name='Guayabal'),\n",
        "                  row=2, col=2)\n",
        "\n",
        "    fig.update_layout(\n",
        "        #title='Evolución de los hurtos en el tiempo, en las comunas con mas camaras del SIMM',\n",
        "        title_font=dict(size=30, color='black', family=\"Arial Black\"),\n",
        "        title_x=0.5,\n",
        "        height=900,\n",
        "        showlegend=True,\n",
        "        plot_bgcolor='white')\n",
        "\n",
        "    fig.update_yaxes(title_text=\"Cantidad de hurtos\", row=1, col=1)\n",
        "    fig.update_yaxes(title_text=\"Cantidad de hurtos\", row=1, col=2)\n",
        "    fig.update_yaxes(title_text=\"Cantidad de hurtos\", row=2, col=1)\n",
        "    fig.update_yaxes(title_text=\"Cantidad de hurtos\", row=2, col=2)\n",
        "\n",
        "    return fig\n",
        "\n",
        "app.layout = html.Div([\n",
        "    dcc.Tabs(id='tabs', value='graph1',\n",
        "             children=[\n",
        "                 dcc.Tab(label='Presentación', style=tab_style, selected_style=tab_selected_style, children=[\n",
        "                     html.Hr(),\n",
        "                     html.H1(html.Div('Análisis de Hurtos de Motocicletas en Medellín: Patrones, Estratificación y Vigilancia', style={'text-align': 'center', 'font-weight': 'bold'})),\n",
        "                     html.Hr(),\n",
        "                     html.H2('Autores', style={'text-align': 'center', 'font-weight': 'bold'}),\n",
        "                     html.Ul([\n",
        "                         html.Li('Valentina Jimenez'),\n",
        "                         html.Li('Nicolás Niño'),\n",
        "                         html.Li('David Díaz')\n",
        "                         ]),\n",
        "                     html.Hr(),\n",
        "                     html.Img(src='https://encrypted-tbn0.gstatic.com/images?q=tbn:ANd9GcRx0VcgOF6vInjePYzBMCThsefZhOrM8OVV9GkdVWjg6GzJiPzu0zI_hwyA1_S78Uwf7mc&usqp=CAU',\n",
        "                              style={'width': '200px', 'display': 'block', 'margin': 'auto'}),\n",
        "                     html.Hr()\n",
        "                    ]),\n",
        "\n",
        "                 dcc.Tab(label='Introducción', style=tab_style, selected_style=tab_selected_style, children=[\n",
        "                     html.Hr(),\n",
        "                     html.H4('Breve descripción del estudio y objetivos', style={'text-align': 'center', 'font-weight': 'bold'}),\n",
        "                     html.P('Este estudio tiene como objetivo analizar los patrones de hurtos de motocicletas en la ciudad de Medellín, explorando la relación entre la\\n'\n",
        "                     'estratificación socioeconómica y la efectividad de la vigilancia mediante cámaras SIMM.'),\n",
        "                     html.Hr(),\n",
        "                     html.H4('Metodología empleada y fuentes de datos utilizadas', style={'text-align': 'center', 'font-weight': 'bold'}),\n",
        "                     html.P('Para este análisis se utilizaron datos de hurtos de motocicletas proporcionados por la policía de Medellín y datos abiertos en repostorios como Medata, así como información sobre la\\n'\n",
        "                     'estratificación socioeconómica de las zonas de la ciudad. Se emplearon técnicas de análisis espacial y temporal para identificar patrones y relaciones entre las variables.'),\n",
        "                     html.Hr(),\n",
        "                     html.H4('Fuentes de información', style={'text-align': 'center', 'font-weight': 'bold'}),\n",
        "                     html.Ul([\n",
        "                         html.Li('Datos abietos sobre hurtos de motocicletas'),\n",
        "                         html.Li('Datos de las cámaras SIMM.'),\n",
        "                         html.Li('Información sociodemográfica de la ciudad.')\n",
        "                         ]),\n",
        "                     html.Hr(),\n",
        "                     html.H4('Resumen de las preguntas clave que se quieren responder', style={'text-align': 'center', 'font-weight': 'bold'}),\n",
        "                     html.Ul([\n",
        "                         html.Li('¿Existen patrones espaciales y temporales que se repiten en el tiempo?'),\n",
        "                         html.Li('¿Existe relación entre la estratificación del área donde se registra el hurto con la cantidad de hurtos registrados?'),\n",
        "                         html.Li('¿Hay baja frecuencia de hurtos en las zonas monitorizadas con cámaras SIMM?'),\n",
        "                         html.Li('¿Existe relación entre el área de recuperación de una motocicleta con la estratificación de esta área?')\n",
        "                         ]),\n",
        "                     html.Hr(),\n",
        "                    ]),\n",
        "\n",
        "                 dcc.Tab(label='Visión General de los Hurtos', style=tab_style, selected_style=tab_selected_style, children=[\n",
        "                     html.Div([\n",
        "                         html.Hr(),\n",
        "                         html.H4(\"Distribución de Hurtos por Día de la Semana\", style={'textAlign': 'center'}),\n",
        "                         dcc.Graph(id='graph3', figure=bar_plot(diagramadias)),\n",
        "                         html.Hr(),\n",
        "                         html.H4(\"Evolución de Hurtos en el Valle de Aburrá\", style={'textAlign': 'center'}),\n",
        "                         dcc.Graph(id='graph1', figure=linea_tiempo(grouped_df2)),\n",
        "                         html.Hr(),\n",
        "                         html.H4(\"Evolución de Hurtos en el Valle de Aburrá, segun la comuna\", style={'textAlign': 'center'}),\n",
        "                         html.P(\"Seleccione una comuna para ver su evolución de los hurtos en el tiempo.\"),\n",
        "                         dcc.Dropdown(\n",
        "                             id='comuna-disp-dropdown',\n",
        "                             options=dropdown_options,\n",
        "                             value=[0]),\n",
        "                         dcc.Graph(id='graph2'),\n",
        "                         ]),\n",
        "                     ]),\n",
        "\n",
        "                 dcc.Tab(label='Patrones Temporales', style=tab_style, selected_style=tab_selected_style, children=[\n",
        "                     html.Div([\n",
        "                         html.H4(\"Mapa de Calor de Hurtos por Día y Hora\", style={'textAlign': 'center'}),\n",
        "                         dcc.Graph(id='graph4', figure=heatmap(df_hurto)),\n",
        "                             ]),\n",
        "                     ]),\n",
        "\n",
        "                 dcc.Tab(label='Análisis por Estrato', style=tab_style, selected_style=tab_selected_style, children=[\n",
        "                    html.Div([\n",
        "                        html.Hr(),\n",
        "                        html.H4('Diagrama de barras de la cantidad de hurto respecto al estrato de la comuna', style={'textAlign': 'center'}),\n",
        "                        dcc.Graph(id='graph5', figure=barras_estrato(hurtos_por_estrato)),\n",
        "                        html.Hr(),\n",
        "                        html.H4('Mapa de la cantidad de hurtos por comuna según estrato', style={'textAlign': 'center'}),\n",
        "                        dcc.Graph(id='graph7', figure=mapa_estrato(promedio_coords))])\n",
        "                     ]),\n",
        "                dcc.Tab(label='Eficacia de Cámaras SIMM', style=tab_style, selected_style=tab_selected_style, children=[\n",
        "                    html.Div([\n",
        "                        html.Hr(),\n",
        "                        html.H4('Conteo de hurtos por tipo de comuna', style={'textAlign': 'center'}),\n",
        "                        dcc.Graph(id='graph8', figure=crear_grafico_combinado(hurtos_por_comuna, camaras_por_comuna)),\n",
        "                        html.Hr(),\n",
        "                        html.H4('Evolución de los hurtos en el tiempo, en las comunas con mas camaras del SIMM', style={'textAlign': 'center'}),\n",
        "                        dcc.Graph(id='graph9', figure=crear_grafico_hurtos(comunas))])\n",
        "                     ]),\n",
        "                 dcc.Tab(label='Recuperación de Motocicletas', style=tab_style, selected_style=tab_selected_style, children=[\n",
        "                     html.Div([\n",
        "                        html.Hr(),\n",
        "                        html.H4('Grafico de radar que contrasta la cantidad de hurtos y recuperaciones por comuna.', style={'textAlign': 'center'}),\n",
        "                        dcc.Graph(id='graph10', figure=create_spider_plot(spider)),\n",
        "                        html.Hr(),\n",
        "                        html.Div([html.H4('Recuperaciones de Motocicletas Robadas por Comuna en Medellín', style={'textAlign': 'center'}),\n",
        "                                  dash_table.DataTable(id='table', columns = [{\"name\": \"Código Comuna\", \"id\": spider.columns[0]},\n",
        "                                                                    {\"name\": \"Nombre Comuna\", \"id\": spider.columns[2]},\n",
        "                                                                    {\"name\": \"Hurtos\", \"id\": spider.columns[1]},\n",
        "                                                                    {\"name\": \"Recuperacionees\", \"id\": spider.columns[3]},\n",
        "                                                                    {\"name\": \"Tasa de recuperación\", \"id\": spider.columns[4]},],\n",
        "                                             data=spider.to_dict('records'), style_data={'width': '8px', 'height': '3px'}),\n",
        "                                  ], style={'margin': '150px'}),\n",
        "                        html.Hr(),\n",
        "                        html.H4('Mapa de la cantidad de recuperaciones por comunas', style={'textAlign': 'center'}),\n",
        "                        dcc.Graph(id='graph11', figure=mapa_recuperaciones(df_combo))])\n",
        "                     ]),\n",
        "                 dcc.Tab(label='Conclusiones', style=tab_style, selected_style=tab_selected_style, children=[\n",
        "                     html.Hr(),\n",
        "                     html.H4('Patrones Temporales:', style={'text-align': 'center', 'font-weight': 'bold'}),\n",
        "                     html.Ul([\n",
        "                         html.Li('Los hurtos son más frecuentes los lunes, martes y miércoles, con el miércoles siendo el día de mayor incidencia.\\n'\n",
        "                         'Los hurtos disminuyen hacia el fin de semana, siendo el domingo el día con menos hurtos.'),\n",
        "                         html.Li('Horas del día: Los hurtos son más comunes durante la madrugada y las primeras horas de la mañana (5-7 am) y nuevamente\\n'\n",
        "                         'en la noche (6-10 pm). Esto puede estar relacionado con la movilidad laboral y la menor vigilancia durante estas horas.\\n')\n",
        "                     ]),\n",
        "                     html.Hr(),\n",
        "                     html.H4('Tendencias a lo largo del tiempo:', style={'text-align': 'center', 'font-weight': 'bold'}),\n",
        "                     html.Ul([\n",
        "                         html.Li('Los hurtos han mostrado fluctuaciones significativas en los últimos 20 años, con periodos de alta y baja incidencia.'),\n",
        "                         html.Li('Se observó un pico en los hurtos entre 2002-2004, una disminución entre 2005-2010, un nuevo aumento entre 2011-2013, y\\n'\n",
        "                         'fluctuaciones moderadas entre 2014-2019. La pandemia de COVID-19 en 2020 causó una caída notable, seguida de un aumento en 2021-2022\\n')\n",
        "                     ]),\n",
        "                     html.Hr(),\n",
        "                     html.H4('Análisis por Estrato:', style={'text-align': 'center', 'font-weight': 'bold'}),\n",
        "                     html.Ul([\n",
        "                         html.Li('En el análisis del hurto de motos en el Valle de Aburrá, se destaca que la mayor cantidad de estos delitos ocurre en el estrato 3.\\n'\n",
        "                         'Este estrato incluye predominantemente las comunas Aranjuez, Buenos Aires y Belén, donde se registra una alta incidencia de robos de motocicletas.')\n",
        "                     ]),\n",
        "                     html.Hr(),\n",
        "                     html.H4('Eficacia de las cámaras SIMM:', style={'text-align': 'center', 'font-weight': 'bold'}),\n",
        "                     html.Ul([\n",
        "                         html.Li('El análisis de la eficacia de las cámaras del Sistema Inteligente de Movilidad (SIMM) en el Valle de Aburrá revela que estas herramientas son cruciales para el monitoreo de las calles en diversas comunas. Estas cámaras permiten identificar vehículos en tránsito y realizar rastreos de actos delictivos, lo que debería contribuir a una mayor seguridad.\\n'\n",
        "                         'Sin embargo, no todas las comunas están equipadas con estas cámaras. También se observa que algunas comunas que sí cuentan con estas cámaras, como La Candelaria y Aranjuez, presentan una mayor incidencia de hurtos de motos.')\n",
        "                     ]),\n",
        "                     html.Hr(),\n",
        "                     html.H4('Recuperación de motocicletas:', style={'text-align': 'center', 'font-weight': 'bold'}),\n",
        "                     html.Ul([\n",
        "                         html.Li('El análisis de la recuperación de motos hurtadas en el Valle de Aburrá muestra una tendencia preocupante: a medida que aumenta el número de hurtos, disminuye la cantidad de motos recuperadas. Esta disminución en las recuperaciones se puede suponer, gran parte al desarrollo y sofisticación de las modalidades delictivas, lo que dificulta significativamente la labor de las autoridades para capturar a los delincuentes y recuperar los vehículos.\\n'\n",
        "                         )\n",
        "                     ]),\n",
        "                 ]),\n",
        "    ]),\n",
        "])\n",
        "\n",
        "\n",
        "@app.callback(\n",
        "    Output(\"graph2\", \"figure\"),\n",
        "    [Input(\"comuna-disp-dropdown\", \"value\")]\n",
        ")\n",
        "def update_graph2(comuna):\n",
        "    # Llama a la función linea_tiempo_com con el diccionario comunas y el valor seleccionado en el dropdown\n",
        "    fig = linea_tiempo_com(comunas, comuna)\n",
        "    return fig\n",
        "\n",
        "@app.callback(\n",
        "    Output(\"spider-plot\", \"figure\"),\n",
        "    [Input(\"tabs\", \"value\")]\n",
        ")\n",
        "\n",
        "def update_spider_plot(tab):\n",
        "    if tab == 'Recuperación de Motocicletas':\n",
        "        fig = create_spider_plot(spider)\n",
        "        return fig\n",
        "    return go.Figure()\n",
        "\n",
        "app.run_server(jupyter_mode=\"external\")"
      ],
      "metadata": {
        "id": "hoIQbaeLPFnw"
      },
      "execution_count": null,
      "outputs": []
    }
  ]
}
